{
 "cells": [
  {
   "cell_type": "code",
   "execution_count": 1,
   "metadata": {},
   "outputs": [],
   "source": [
    "# Importing dependencies\n",
    "import tensorflow as tf\n",
    "from tensorflow.keras.layers import Conv2D, MaxPool2D, Dense, Flatten\n",
    "from art.attacks.poisoning import PoisoningAttackBackdoor\n",
    "from art.attacks.poisoning.perturbations import add_pattern_bd\n",
    "from art.defences.detector.poison import ActivationDefence\n",
    "from art.estimators.classification import KerasClassifier\n",
    "from art.utils import load_dataset, to_categorical\n",
    "import numpy as np\n",
    "import matplotlib\n",
    "import matplotlib.pyplot as plt\n",
    "import pprint\n",
    "import json\n",
    "\n",
    "# Disabling eager execution from TF 2\n",
    "tf.compat.v1.disable_eager_execution()\n",
    "\n",
    "# Increasing Matplotlib font size\n",
    "matplotlib.rcParams.update({\"font.size\": 14})"
   ]
  },
  {
   "cell_type": "markdown",
   "metadata": {},
   "source": [
    "## Poisoning data for the attack"
   ]
  },
  {
   "cell_type": "code",
   "execution_count": 2,
   "metadata": {},
   "outputs": [],
   "source": [
    "# Loading data\n",
    "(train_images_original, train_labels_original), (test_images_original, test_labels_original), min, max = load_dataset(name=\"mnist\")"
   ]
  },
  {
   "cell_type": "code",
   "execution_count": 3,
   "metadata": {},
   "outputs": [],
   "source": [
    "# Function for poisoning a given dataset\n",
    "def poison_dataset(\n",
    "    clean_images, \n",
    "    clean_labels, \n",
    "    target_labels, \n",
    "    percent_poison\n",
    "    ):\n",
    "    # Creating copies of our clean images and labels\n",
    "    # Poisoned samples will be added to these copies\n",
    "    x_poison = clean_images.copy()\n",
    "    y_poison = clean_labels.copy()\n",
    "\n",
    "    # Array to indicate if a sample is poisoned or not\n",
    "    # 0s are for clean samples, 1s are for poisoned samples\n",
    "    is_poison = np.zeros(shape=y_poison.shape[0])\n",
    "\n",
    "    # Indicating our source labels (as integers)\n",
    "    source_labels = np.arange(10)\n",
    "\n",
    "    # Defining a backdoor attack\n",
    "    backdoor_attack = PoisoningAttackBackdoor(perturbation=add_pattern_bd)    \n",
    "\n",
    "    # Iterating over our source labels and provided target labels\n",
    "    for (source_label, target_label) in (zip(source_labels, target_labels)):\n",
    "        # Calculating the number of clean labels that are equal to the\n",
    "        # current source label\n",
    "        num_labels = np.size(np.where(np.argmax(a=clean_labels, axis=1) == source_label))                \n",
    "\n",
    "        # Calculating the number of samples that should be poisoned from\n",
    "        # the current source labels\n",
    "        num_poison = round(percent_poison * num_labels)\n",
    "        \n",
    "        # Getting the images for the current clean label\n",
    "        source_images = clean_images[np.argmax(a=clean_labels, axis=1) == source_label]\n",
    "\n",
    "        # Randomly picking indices to poison\n",
    "        indices_to_be_poisoned = np.random.choice(\n",
    "            a=num_labels, \n",
    "            size=num_poison\n",
    "            )        \n",
    "\n",
    "        # Get the images for the current label that should be poisoned\n",
    "        images_to_be_poisoned = source_images[indices_to_be_poisoned].copy()        \n",
    "\n",
    "        # Converting the target label to a categorical\n",
    "        target_label = to_categorical(labels=(np.ones(shape=num_poison) * target_label), nb_classes=10)\n",
    "\n",
    "        # Poisoning the images and labels for the current label\n",
    "        poisoned_images, poisoned_labels = backdoor_attack.poison(\n",
    "            x=images_to_be_poisoned, \n",
    "            y=target_label\n",
    "            )\n",
    "\n",
    "        # Appending the poisoned images to our clean images\n",
    "        x_poison = np.append(\n",
    "            arr=x_poison, \n",
    "            values=poisoned_images, \n",
    "            axis=0\n",
    "            )\n",
    "\n",
    "        # Appending the poisoned labels to our clean labels\n",
    "        y_poison = np.append(\n",
    "            arr=y_poison, \n",
    "            values=poisoned_labels, \n",
    "            axis=0\n",
    "            )\n",
    "\n",
    "        # Appending 1s to the poison indicator array\n",
    "        is_poison = np.append(\n",
    "            arr=is_poison, \n",
    "            values=np.ones(shape=num_poison)\n",
    "            )\n",
    "    \n",
    "    # Returning the poisoned samples and the poison indicator array\n",
    "    return is_poison, x_poison, y_poison"
   ]
  },
  {
   "cell_type": "code",
   "execution_count": 4,
   "metadata": {},
   "outputs": [],
   "source": [
    "# Defining target labels (0, 1, 2, 3 ... 0)\n",
    "target_labels = (np.arange(10) + 1) % 10\n",
    "\n",
    "# Poisoning the training data\n",
    "percent_poison = .50\n",
    "(is_poison_train, train_images, train_labels) = poison_dataset(\n",
    "    clean_images=train_images_original[:10000], \n",
    "    clean_labels=train_labels_original[:10000], \n",
    "    target_labels=target_labels, \n",
    "    percent_poison=percent_poison)\n",
    "\n",
    "# Poisoning the test data\n",
    "(is_poison_test, test_images, test_labels) = poison_dataset(\n",
    "    clean_images=test_images_original, \n",
    "    clean_labels=test_labels_original,\n",
    "    target_labels=target_labels, \n",
    "    percent_poison=percent_poison)\n",
    "\n",
    "# Getting the clean and poisoned images & labels from the test set\n",
    "clean_test_images, clean_test_labels = test_images[is_poison_test == 0], test_labels[is_poison_test == 0]\n",
    "poisoned_test_images, poisoned_test_labels = test_images[is_poison_test == 1], test_labels[is_poison_test == 1]\n",
    "\n",
    "# Shuffling the training data\n",
    "num_train = train_images.shape[0]\n",
    "shuffled_indices = np.arange(num_train)\n",
    "np.random.shuffle(shuffled_indices)\n",
    "train_images = train_images[shuffled_indices]\n",
    "train_labels = train_labels[shuffled_indices]"
   ]
  },
  {
   "cell_type": "markdown",
   "metadata": {},
   "source": [
    "## Visualizing the training data"
   ]
  },
  {
   "cell_type": "code",
   "execution_count": 5,
   "metadata": {},
   "outputs": [],
   "source": [
    "# Function for creating a figure and axes\n",
    "def create_figure_axes(\n",
    "    nrows, \n",
    "    ncols, \n",
    "    figsize\n",
    "    ):\n",
    "    # Creating a figure and axes\n",
    "    fig, axes = plt.subplots(\n",
    "        nrows=nrows, \n",
    "        ncols=ncols, \n",
    "        figsize=figsize\n",
    "        )\n",
    "\n",
    "    # Returning the figure and axes\n",
    "    return fig, axes"
   ]
  },
  {
   "cell_type": "code",
   "execution_count": 6,
   "metadata": {},
   "outputs": [],
   "source": [
    "# Function for plotting images\n",
    "def plot_images(\n",
    "    images,\n",
    "    labels,    \n",
    "    plot_label,\n",
    "    is_categorical,\n",
    "    nrows, \n",
    "    ncols,\n",
    "    figsize\n",
    "    ):    \n",
    "    # Creating a figure and axes\n",
    "    fig, axes = create_figure_axes(\n",
    "        nrows=nrows, \n",
    "        ncols=ncols, \n",
    "        figsize=figsize\n",
    "        )\n",
    "\n",
    "    # Defining a counting variable\n",
    "    counter = 0\n",
    "\n",
    "    # Iterating over our rows and cols,\n",
    "    # plotting poisoned test images\n",
    "    # along with their true targets\n",
    "    for i in range(nrows):\n",
    "        for j in range(ncols):\n",
    "            # Converting the current label to an integer \n",
    "            # if it is categorical\n",
    "            if is_categorical:\n",
    "                label = np.argmax(a=labels[counter])\n",
    "            else:\n",
    "                label = labels[counter]\n",
    "            \n",
    "            # Displaying the current image\n",
    "            # and setting axis title\n",
    "            axes[i, j].imshow(images[counter])\n",
    "            axes[i, j].set_title(label=f\"{plot_label}: {label}\")\n",
    "\n",
    "            # Disabling ticks\n",
    "            axes[i, j].set_xticks(ticks=[])\n",
    "            axes[i, j].set_yticks(ticks=[])\n",
    "\n",
    "            # Incrementing the counter\n",
    "            counter += 1"
   ]
  },
  {
   "cell_type": "code",
   "execution_count": 7,
   "metadata": {},
   "outputs": [
    {
     "data": {
      "image/png": "[encoded data removed]",
      "text/plain": [
       "<Figure size 1800x720 with 10 Axes>"
      ]
     },
     "metadata": {},
     "output_type": "display_data"
    }
   ],
   "source": [
    "# Plotting ten samples of training images and their labels\n",
    "plot_images(\n",
    "    images=train_images, \n",
    "    labels=train_labels,\n",
    "    plot_label=\"Label\",\n",
    "    is_categorical=True,\n",
    "    nrows=2,\n",
    "    ncols=5,\n",
    "    figsize=(25, 10))"
   ]
  },
  {
   "cell_type": "markdown",
   "metadata": {},
   "source": [
    "## Training a model on the poisoned dataset"
   ]
  },
  {
   "cell_type": "code",
   "execution_count": 8,
   "metadata": {},
   "outputs": [],
   "source": [
    "# Function for creating model\n",
    "def create_model():\n",
    "    # Defining the model\n",
    "    model = tf.keras.models.Sequential([\n",
    "        Conv2D(filters=32, kernel_size=3, activation=\"relu\", input_shape=(28, 28, 1)),\n",
    "        Conv2D(filters=32, kernel_size=3, activation=\"relu\", strides=2),\n",
    "        Conv2D(filters=64, kernel_size=3, activation=\"relu\"),\n",
    "        Conv2D(filters=64, kernel_size=3, activation=\"relu\", strides=2),\n",
    "        Flatten(),\n",
    "        Dense(units=100, activation=\"relu\"),\n",
    "        Dense(units=10, activation=\"softmax\")\n",
    "    ])\n",
    "\n",
    "    # Compiling the model\n",
    "    model.compile(\n",
    "        optimizer=\"adam\",\n",
    "        loss=\"categorical_crossentropy\",\n",
    "        metrics=[\"accuracy\"]\n",
    "        )   \n",
    "\n",
    "    # Returning the model\n",
    "    return model"
   ]
  },
  {
   "cell_type": "code",
   "execution_count": 9,
   "metadata": {},
   "outputs": [
    {
     "name": "stdout",
     "output_type": "stream",
     "text": [
      "Train on 15001 samples\n",
      "Epoch 1/10\n",
      "15001/15001 [==============================] - 5s 312us/sample - loss: 0.5298 - accuracy: 0.8191\n",
      "Epoch 2/10\n",
      "15001/15001 [==============================] - 3s 168us/sample - loss: 0.0943 - accuracy: 0.9723\n",
      "Epoch 3/10\n",
      "15001/15001 [==============================] - 3s 170us/sample - loss: 0.0460 - accuracy: 0.9859\n",
      "Epoch 4/10\n",
      "15001/15001 [==============================] - 3s 176us/sample - loss: 0.0265 - accuracy: 0.9913\n",
      "Epoch 5/10\n",
      "15001/15001 [==============================] - 3s 169us/sample - loss: 0.0208 - accuracy: 0.9939\n",
      "Epoch 6/10\n",
      "15001/15001 [==============================] - 3s 180us/sample - loss: 0.0121 - accuracy: 0.9959\n",
      "Epoch 7/10\n",
      "15001/15001 [==============================] - 2s 165us/sample - loss: 0.0191 - accuracy: 0.9940\n",
      "Epoch 8/10\n",
      "15001/15001 [==============================] - 3s 167us/sample - loss: 0.0108 - accuracy: 0.9973\n",
      "Epoch 9/10\n",
      "15001/15001 [==============================] - 2s 166us/sample - loss: 0.0071 - accuracy: 0.9979\n",
      "Epoch 10/10\n",
      "15001/15001 [==============================] - 3s 167us/sample - loss: 0.0101 - accuracy: 0.9963\n"
     ]
    },
    {
     "data": {
      "text/plain": [
       "<keras.callbacks.History at 0x29ab0102d90>"
      ]
     },
     "execution_count": 9,
     "metadata": {},
     "output_type": "execute_result"
    }
   ],
   "source": [
    "# Creating and training a victim classifier\n",
    "# with the poisoned data\n",
    "model_poisoned = create_model()\n",
    "model_poisoned.fit(\n",
    "    x=train_images, \n",
    "    y=train_labels, \n",
    "    epochs=10\n",
    "    )"
   ]
  },
  {
   "cell_type": "code",
   "execution_count": 10,
   "metadata": {},
   "outputs": [
    {
     "name": "stderr",
     "output_type": "stream",
     "text": [
      "c:\\Users\\tigra\\AppData\\Local\\Programs\\Python\\Python39\\lib\\site-packages\\keras\\engine\\training_v1.py:2079: UserWarning: `Model.state_updates` will be removed in a future version. This property should not be used in TensorFlow 2.0, as `updates` are applied automatically.\n",
      "  updates=self.state_updates,\n"
     ]
    },
    {
     "data": {
      "image/png": "[encoded data removed]",
      "text/plain": [
       "<Figure size 1800x720 with 10 Axes>"
      ]
     },
     "metadata": {},
     "output_type": "display_data"
    }
   ],
   "source": [
    "# Getting predictions for the selected images\n",
    "clean_predictions = model_poisoned.predict(x=clean_test_images)\n",
    "\n",
    "# Plotting clean test images and their predictions\n",
    "plot_images(\n",
    "    images=clean_test_images,\n",
    "    labels=clean_predictions,\n",
    "    plot_label=\"Clean Prediction\",\n",
    "    is_categorical=True,\n",
    "    nrows=2,\n",
    "    ncols=5,\n",
    "    figsize=(25, 10)\n",
    ")"
   ]
  },
  {
   "cell_type": "code",
   "execution_count": 11,
   "metadata": {},
   "outputs": [
    {
     "data": {
      "image/png": "[encoded data removed]",
      "text/plain": [
       "<Figure size 1800x720 with 10 Axes>"
      ]
     },
     "metadata": {},
     "output_type": "display_data"
    }
   ],
   "source": [
    "# Getting random ten images from the poisoned test set\n",
    "num_samples = 10\n",
    "sample_indices = np.random.choice(\n",
    "    a=len(poisoned_test_images), \n",
    "    size=num_samples\n",
    "    )\n",
    "sample_poisoned_images = poisoned_test_images[sample_indices]\n",
    "\n",
    "# Getting predictions for the selected images\n",
    "poisoned_predictions = model_poisoned.predict(x=sample_poisoned_images)\n",
    "\n",
    "# Plotting poisoned test images and their predictions\n",
    "plot_images(\n",
    "    images=sample_poisoned_images,\n",
    "    labels=poisoned_predictions,\n",
    "    plot_label=\"Poisoned Prediction\",\n",
    "    is_categorical=True,\n",
    "    nrows=2,\n",
    "    ncols=5,\n",
    "    figsize=(25, 10)\n",
    ")"
   ]
  },
  {
   "cell_type": "code",
   "execution_count": 12,
   "metadata": {},
   "outputs": [
    {
     "name": "stderr",
     "output_type": "stream",
     "text": [
      "c:\\Users\\tigra\\AppData\\Local\\Programs\\Python\\Python39\\lib\\site-packages\\keras\\engine\\training_v1.py:2057: UserWarning: `Model.state_updates` will be removed in a future version. This property should not be used in TensorFlow 2.0, as `updates` are applied automatically.\n",
      "  updates = self.state_updates\n"
     ]
    },
    {
     "name": "stdout",
     "output_type": "stream",
     "text": [
      "------ TEST METRICS OF POISONED MODEL ------\n",
      "Test loss on clean data: 0.16 vs test loss on poisoned data: 0.16\n",
      "Test accuracy on clean data: 0.97 vs test accuracy on poisoned data: 0.96\n"
     ]
    }
   ],
   "source": [
    "# Evaluating the performance of the vulnerable classifier on clean and poisoned samples\n",
    "score_clean = model_poisoned.evaluate(x=clean_test_images, y=clean_test_labels)\n",
    "score_poisoned = model_poisoned.evaluate(x=poisoned_test_images, y=poisoned_test_labels)\n",
    "\n",
    "# Comparing test losses\n",
    "print(\"------ TEST METRICS OF POISONED MODEL ------\")\n",
    "print(f\"Test loss on clean data: {score_clean[0]:.2f} \"\n",
    "      f\"vs test loss on poisoned data: {score_poisoned[0]:.2f}\")\n",
    "\n",
    "# Comparing test losses\n",
    "print(f\"Test accuracy on clean data: {score_clean[1]:.2f} \"\n",
    "      f\"vs test accuracy on poisoned data: {score_poisoned[1]:.2f}\")"
   ]
  },
  {
   "cell_type": "markdown",
   "metadata": {},
   "source": [
    "## Building a detector defense for the poisoning attack"
   ]
  },
  {
   "cell_type": "code",
   "execution_count": 13,
   "metadata": {},
   "outputs": [],
   "source": [
    "# Wrapping our model in KerasClassifier\n",
    "classifier_poisoned = KerasClassifier(\n",
    "    model=model_poisoned,\n",
    "    clip_values=(min, max)\n",
    ")\n",
    "\n",
    "# Initializing a defense object\n",
    "defense = ActivationDefence(\n",
    "    classifier=classifier_poisoned, \n",
    "    x_train=train_images, \n",
    "    y_train=train_labels\n",
    "    )"
   ]
  },
  {
   "cell_type": "code",
   "execution_count": 14,
   "metadata": {},
   "outputs": [
    {
     "name": "stderr",
     "output_type": "stream",
     "text": [
      "c:\\Users\\tigra\\AppData\\Local\\Programs\\Python\\Python39\\lib\\site-packages\\numpy\\core\\_asarray.py:102: VisibleDeprecationWarning: Creating an ndarray from ragged nested sequences (which is a list-or-tuple of lists-or-tuples-or ndarrays with different lengths or shapes) is deprecated. If you meant to do this, you must specify 'dtype=object' when creating the ndarray.\n",
      "  return array(a, dtype, copy=False, order=order)\n"
     ]
    }
   ],
   "source": [
    "# Detecting poisoned samples in the provided images\n",
    "report, is_clean_reported = defense.detect_poison(\n",
    "    nb_clusters=2,\n",
    "    reduce=\"PCA\",\n",
    "    nb_dims=10)"
   ]
  },
  {
   "cell_type": "code",
   "execution_count": 15,
   "metadata": {},
   "outputs": [
    {
     "name": "stdout",
     "output_type": "stream",
     "text": [
      "{'Class_0': {'cluster_0': {'ptc_data_in_cluster': 0.67,\n",
      "                           'suspicious_cluster': False},\n",
      "             'cluster_1': {'ptc_data_in_cluster': 0.33,\n",
      "                           'suspicious_cluster': True}},\n",
      " 'Class_1': {'cluster_0': {'ptc_data_in_cluster': 0.69,\n",
      "                           'suspicious_cluster': False},\n",
      "             'cluster_1': {'ptc_data_in_cluster': 0.31,\n",
      "                           'suspicious_cluster': True}},\n",
      " 'Class_2': {'cluster_0': {'ptc_data_in_cluster': 0.64,\n",
      "                           'suspicious_cluster': False},\n",
      "             'cluster_1': {'ptc_data_in_cluster': 0.36,\n",
      "                           'suspicious_cluster': True}},\n",
      " 'Class_3': {'cluster_0': {'ptc_data_in_cluster': 0.67,\n",
      "                           'suspicious_cluster': False},\n",
      "             'cluster_1': {'ptc_data_in_cluster': 0.33,\n",
      "                           'suspicious_cluster': True}},\n",
      " 'Class_4': {'cluster_0': {'ptc_data_in_cluster': 0.66,\n",
      "                           'suspicious_cluster': False},\n",
      "             'cluster_1': {'ptc_data_in_cluster': 0.34,\n",
      "                           'suspicious_cluster': True}},\n",
      " 'Class_5': {'cluster_0': {'ptc_data_in_cluster': 0.64,\n",
      "                           'suspicious_cluster': False},\n",
      "             'cluster_1': {'ptc_data_in_cluster': 0.36,\n",
      "                           'suspicious_cluster': True}},\n",
      " 'Class_6': {'cluster_0': {'ptc_data_in_cluster': 0.3,\n",
      "                           'suspicious_cluster': True},\n",
      "             'cluster_1': {'ptc_data_in_cluster': 0.7,\n",
      "                           'suspicious_cluster': False}},\n",
      " 'Class_7': {'cluster_0': {'ptc_data_in_cluster': 0.32,\n",
      "                           'suspicious_cluster': True},\n",
      "             'cluster_1': {'ptc_data_in_cluster': 0.68,\n",
      "                           'suspicious_cluster': False}},\n",
      " 'Class_8': {'cluster_0': {'ptc_data_in_cluster': 0.64,\n",
      "                           'suspicious_cluster': False},\n",
      "             'cluster_1': {'ptc_data_in_cluster': 0.36,\n",
      "                           'suspicious_cluster': True}},\n",
      " 'Class_9': {'cluster_0': {'ptc_data_in_cluster': 0.33,\n",
      "                           'suspicious_cluster': True},\n",
      "             'cluster_1': {'ptc_data_in_cluster': 0.67,\n",
      "                           'suspicious_cluster': False}},\n",
      " 'cluster_analysis': 'smaller',\n",
      " 'clustering_method': 'KMeans',\n",
      " 'generator': None,\n",
      " 'nb_clusters': 2,\n",
      " 'nb_dims': 10,\n",
      " 'reduce': 'PCA',\n",
      " 'suspicious_clusters': 10.0}\n"
     ]
    }
   ],
   "source": [
    "# Inspecting the report\n",
    "pprint.pprint(report)"
   ]
  },
  {
   "cell_type": "code",
   "execution_count": 16,
   "metadata": {},
   "outputs": [
    {
     "data": {
      "image/png": "[encoded data removed]",
      "text/plain": [
       "<Figure size 1800x720 with 10 Axes>"
      ]
     },
     "metadata": {},
     "output_type": "display_data"
    }
   ],
   "source": [
    "# Plotting ten samples of training images and their labels\n",
    "plot_images(\n",
    "    images=train_images, \n",
    "    labels=np.array(object=is_clean_reported) == 1,\n",
    "    plot_label=\"Is clean\",\n",
    "    is_categorical=False,\n",
    "    nrows=2,\n",
    "    ncols=5,\n",
    "    figsize=(25, 10))"
   ]
  }
 ],
 "metadata": {
  "interpreter": {
   "hash": "f70919de02cd95c592d326227477d23447c62ed3e27fe887d4c4050715a0d7b9"
  },
  "kernelspec": {
   "display_name": "Python 3.9.6 64-bit",
   "language": "python",
   "name": "python3"
  },
  "language_info": {
   "codemirror_mode": {
    "name": "ipython",
    "version": 3
   },
   "file_extension": ".py",
   "mimetype": "text/x-python",
   "name": "python",
   "nbconvert_exporter": "python",
   "pygments_lexer": "ipython3",
   "version": "3.9.6"
  },
  "orig_nbformat": 4
 },
 "nbformat": 4,
 "nbformat_minor": 2
}
