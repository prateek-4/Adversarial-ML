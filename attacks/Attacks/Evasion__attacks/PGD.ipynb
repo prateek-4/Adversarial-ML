{
 "cells": [
  {
   "cell_type": "code",
   "execution_count": 2,
   "metadata": {},
   "outputs": [],
   "source": [
    "# Importing dependencies\n",
    "import tensorflow as tf\n",
    "tf.compat.v1.disable_eager_execution()\n",
    "from tensorflow.keras.layers import Conv2D, MaxPool2D, Dense, Flatten\n",
    "\n",
    "from art.attacks.evasion import AdversarialPatchTensorFlowV2\n",
    "from art.utils import load_dataset, to_categorical\n",
    "import numpy as np\n",
    "import matplotlib\n",
    "import matplotlib.pyplot as plt\n"
   ]
  },
  {
   "cell_type": "code",
   "execution_count": 22,
   "metadata": {},
   "outputs": [],
   "source": [
    "# Loading the dataset\n",
    "(train_images_original, train_labels_original), (test_images_original, test_labels_original), min, max = load_dataset(name=\"mnist\")\n"
   ]
  },
  {
   "cell_type": "code",
   "execution_count": 25,
   "metadata": {},
   "outputs": [],
   "source": [
    "# Function for creating model\n",
    "# For the next of the illustrations we will use CNN model\n",
    "\n",
    "def create_model():\n",
    "    # Defining the model\n",
    "    model = tf.keras.models.Sequential([\n",
    "        Conv2D(filters=32, kernel_size=3, activation=\"relu\", input_shape=(28, 28, 1)),\n",
    "        Conv2D(filters=32, kernel_size=3, activation=\"relu\", strides=2),\n",
    "        Conv2D(filters=64, kernel_size=3, activation=\"relu\"),\n",
    "        Conv2D(filters=64, kernel_size=3, activation=\"relu\", strides=2),\n",
    "        Flatten(),\n",
    "        Dense(units=100, activation=\"relu\"),\n",
    "        Dense(units=10, activation=\"softmax\")\n",
    "    ])\n",
    "\n",
    "    model.compile(\n",
    "        optimizer=\"adam\",\n",
    "        loss=\"categorical_crossentropy\",\n",
    "        metrics=[\"accuracy\"]\n",
    "    )\n",
    "\n",
    "    return model\n"
   ]
  },
  {
   "cell_type": "code",
   "execution_count": 26,
   "metadata": {},
   "outputs": [
    {
     "data": {
      "text/plain": [
       "<keras.src.callbacks.History at 0x180a9107d00>"
      ]
     },
     "execution_count": 26,
     "metadata": {},
     "output_type": "execute_result"
    }
   ],
   "source": [
    "# Training our model to before to demonstrate mechanism\n",
    "model=create_model()\n",
    "\n",
    "model.fit(x=train_images_original,y=train_labels_original,epochs=10,verbose=False)"
   ]
  },
  {
   "cell_type": "code",
   "execution_count": 27,
   "metadata": {},
   "outputs": [
    {
     "name": "stderr",
     "output_type": "stream",
     "text": [
      "C:\\Users\\Darshan Mourya\\AppData\\Local\\Packages\\PythonSoftwareFoundation.Python.3.10_qbz5n2kfra8p0\\LocalCache\\local-packages\\Python310\\site-packages\\keras\\src\\engine\\training_v1.py:2335: UserWarning: `Model.state_updates` will be removed in a future version. This property should not be used in TensorFlow 2.0, as `updates` are applied automatically.\n",
      "  updates = self.state_updates\n"
     ]
    },
    {
     "name": "stdout",
     "output_type": "stream",
     "text": [
      "TEST METRICS\n",
      "Test loss : 0.04 vs Test Accuracy: 0.99\n"
     ]
    }
   ],
   "source": [
    "# Evaluating the performances before adversaries\n",
    "score = model.evaluate(x=test_images_original, y=test_labels_original)\n",
    "\n",
    "# Test loss and accuracy\n",
    "print(\"TEST METRICS\")\n",
    "print(f\"Test loss : {score[0]:.2f} \"\n",
    "      f\"vs Test Accuracy: {score[1]:.2f}\")\n"
   ]
  },
  {
   "cell_type": "code",
   "execution_count": 28,
   "metadata": {},
   "outputs": [],
   "source": [
    "from art.estimators.classification import KerasClassifier\n",
    "_classifier=KerasClassifier(\n",
    "    model=model,\n",
    "    clip_values=(min,max)\n",
    ")"
   ]
  },
  {
   "cell_type": "code",
   "execution_count": 29,
   "metadata": {},
   "outputs": [],
   "source": [
    "# Creating an instance of the AdversarialPatch attack\n",
    "from art.attacks.evasion import ProjectedGradientDescent\n",
    "attack_l1 = ProjectedGradientDescent(\n",
    "    estimator=_classifier,\n",
    "    max_iter=500,\n",
    "    eps=0.1,\n",
    "    verbose=False,\n",
    "    \n",
    ")\n",
    "\n",
    "# There is always trade of between inconspicousness and effectiveness while deciding values of scale_min, scale_max,rotation_max.."
   ]
  },
  {
   "cell_type": "code",
   "execution_count": 36,
   "metadata": {},
   "outputs": [],
   "source": [
    "x_test_adv = attack_l1.generate(x=test_images_original[:1000])\n"
   ]
  },
  {
   "cell_type": "code",
   "execution_count": 38,
   "metadata": {},
   "outputs": [
    {
     "name": "stdout",
     "output_type": "stream",
     "text": [
      "TEST METRICS ON CLEAN IMAGES\n",
      "Test loss : 0.04 vs Test Accuracy: 0.99\n",
      "TEST METRICS ON ADVERSARIAL IMAGES\n",
      "Test loss : 1.96 vs Test Accuracy: 0.52\n"
     ]
    }
   ],
   "source": [
    "# Evaluating the performances before adversaries\n",
    "score1 = model.evaluate(x=test_images_original[:1000], y=test_labels_original[:1000])\n",
    "score2 = model.evaluate(x=x_test_adv, y=test_labels_original[:1000])\n",
    "\n",
    "# Test losses and accuracy\n",
    "print(\"TEST METRICS ON CLEAN IMAGES\")\n",
    "print(f\"Test loss : {score1[0]:.2f} \"\n",
    "      f\"vs Test Accuracy: {score1[1]:.2f}\")\n",
    "\n",
    "print(\"TEST METRICS ON ADVERSARIAL IMAGES\")\n",
    "print(f\"Test loss : {score2[0]:.2f} \"\n",
    "      f\"vs Test Accuracy: {score2[1]:.2f}\")\n"
   ]
  },
  {
   "cell_type": "code",
   "execution_count": 39,
   "metadata": {},
   "outputs": [],
   "source": [
    "# Functions to Display created adversarial examples\n",
    "def create_figure_axes(\n",
    "    nrows, \n",
    "    ncols, \n",
    "    figsize\n",
    "    ):\n",
    "    # Creating a figure and axes\n",
    "    fig, axes = plt.subplots(\n",
    "        nrows=nrows, \n",
    "        ncols=ncols, \n",
    "        figsize=figsize\n",
    "        )\n",
    "\n",
    "    # Returning the figure and axes\n",
    "    return fig, axes\n",
    "\n",
    "# Function for plotting images\n",
    "def plot_images(\n",
    "    images,\n",
    "    labels,    \n",
    "    plot_label,\n",
    "    is_categorical,\n",
    "    nrows, \n",
    "    ncols,\n",
    "    figsize\n",
    "    ):    \n",
    "    # Creating a figure and axes\n",
    "    fig, axes = create_figure_axes(\n",
    "        nrows=nrows, \n",
    "        ncols=ncols, \n",
    "        figsize=figsize\n",
    "        )\n",
    "\n",
    "    # Defining a counting variable\n",
    "    counter = 0\n",
    "\n",
    "    # Iterating over our rows and cols,\n",
    "    # plotting poisoned test images\n",
    "    # along with their true targets\n",
    "    for i in range(nrows):\n",
    "        for j in range(ncols):\n",
    "            # Converting the current label to an integer \n",
    "            # if it is categorical\n",
    "            if is_categorical:\n",
    "                label = np.argmax(a=labels[counter])\n",
    "            else:\n",
    "                label = labels[counter]\n",
    "            \n",
    "            # Displaying the current image\n",
    "            # and setting axis title\n",
    "            axes[i, j].imshow(images[counter])\n",
    "            axes[i, j].set_title(label=f\"{plot_label}: {label}\")\n",
    "\n",
    "            # Disabling ticks\n",
    "            axes[i, j].set_xticks(ticks=[])\n",
    "            axes[i, j].set_yticks(ticks=[])\n",
    "\n",
    "            # Incrementing the counter\n",
    "            counter += 1"
   ]
  },
  {
   "cell_type": "code",
   "execution_count": 40,
   "metadata": {},
   "outputs": [
    {
     "data": {
      "image/png": "[encoded data removed]",
      "text/plain": [
       "<Figure size 500x500 with 4 Axes>"
      ]
     },
     "metadata": {},
     "output_type": "display_data"
    }
   ],
   "source": [
    "# PLotting Clean images \n",
    "plot_images(\n",
    "    images=test_images_original[:100], \n",
    "    labels=test_labels_original[:100],\n",
    "    plot_label=\"Label\",\n",
    "    is_categorical=True,\n",
    "    nrows=2,\n",
    "    ncols=2,\n",
    "    figsize=(5, 5))"
   ]
  },
  {
   "cell_type": "code",
   "execution_count": 42,
   "metadata": {},
   "outputs": [
    {
     "data": {
      "image/png": "[encoded data removed]",
      "text/plain": [
       "<Figure size 500x500 with 4 Axes>"
      ]
     },
     "metadata": {},
     "output_type": "display_data"
    }
   ],
   "source": [
    "# PLotting Adversarial images \n",
    "plot_images(\n",
    "    images=x_test_adv, \n",
    "    labels=test_labels_original[:100],\n",
    "    plot_label=\"Label\",\n",
    "    is_categorical=True,\n",
    "    nrows=2,\n",
    "    ncols=2,\n",
    "    figsize=(5, 5))"
   ]
  },
  {
   "cell_type": "markdown",
   "metadata": {},
   "source": [
    "Results are pretty similar to FGM"
   ]
  },
  {
   "cell_type": "code",
   "execution_count": null,
   "metadata": {},
   "outputs": [],
   "source": []
  }
 ],
 "metadata": {
  "kernelspec": {
   "display_name": "Python 3",
   "language": "python",
   "name": "python3"
  },
  "language_info": {
   "codemirror_mode": {
    "name": "ipython",
    "version": 3
   },
   "file_extension": ".py",
   "mimetype": "text/x-python",
   "name": "python",
   "nbconvert_exporter": "python",
   "pygments_lexer": "ipython3",
   "version": "3.10.11"
  }
 },
 "nbformat": 4,
 "nbformat_minor": 2
}
