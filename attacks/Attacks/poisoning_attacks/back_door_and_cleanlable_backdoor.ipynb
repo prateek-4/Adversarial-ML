{
 "cells": [
  {
   "cell_type": "code",
   "execution_count": 1,
   "metadata": {},
   "outputs": [
    {
     "name": "stdout",
     "output_type": "stream",
     "text": [
      "WARNING:tensorflow:From C:\\Users\\Darshan Mourya\\AppData\\Local\\Packages\\PythonSoftwareFoundation.Python.3.10_qbz5n2kfra8p0\\LocalCache\\local-packages\\Python310\\site-packages\\keras\\src\\losses.py:2976: The name tf.losses.sparse_softmax_cross_entropy is deprecated. Please use tf.compat.v1.losses.sparse_softmax_cross_entropy instead.\n",
      "\n",
      "WARNING:tensorflow:From C:\\Users\\Darshan Mourya\\AppData\\Local\\Temp\\ipykernel_21288\\3660350873.py:12: The name tf.disable_eager_execution is deprecated. Please use tf.compat.v1.disable_eager_execution instead.\n",
      "\n"
     ]
    }
   ],
   "source": [
    "# Importing dependencies\n",
    "import tensorflow as tf\n",
    "from tensorflow.keras.layers import Conv2D, MaxPool2D, Dense, Flatten\n",
    "import numpy as np\n",
    "import matplotlib.pyplot as plt\n",
    "import matplotlib\n",
    "from art.estimators.classification import KerasClassifier\n",
    "from art.attacks.evasion import FastGradientMethod\n",
    "from art.utils import load_dataset\n",
    "\n",
    "# Disabling eager execution from TF 2\n",
    "tf.compat.v1.disable_eager_execution()\n",
    "\n",
    "# Increasing Matplotlib font size\n",
    "matplotlib.rcParams.update({\"font.size\": 14})\n"
   ]
  },
  {
   "cell_type": "code",
   "execution_count": 2,
   "metadata": {},
   "outputs": [],
   "source": [
    "# Loading the data\n",
    "(train_images, train_labels), (test_images, test_labels), min, max = load_dataset(name=\"mnist\")"
   ]
  },
  {
   "cell_type": "code",
   "execution_count": 3,
   "metadata": {},
   "outputs": [],
   "source": [
    "# Function for creating model\n",
    "def create_model():\n",
    "    # Defining the model\n",
    "    model = tf.keras.models.Sequential([\n",
    "        Conv2D(filters=32, kernel_size=3, activation=\"relu\", input_shape=(28, 28, 1)),\n",
    "        Conv2D(filters=32, kernel_size=3, activation=\"relu\", strides=2),\n",
    "        Conv2D(filters=64, kernel_size=3, activation=\"relu\"),\n",
    "        Conv2D(filters=64, kernel_size=3, activation=\"relu\", strides=2),\n",
    "        Flatten(),\n",
    "        Dense(units=100, activation=\"relu\"),\n",
    "        Dense(units=10, activation=\"softmax\")\n",
    "    ])\n",
    "\n",
    "    # Compiling the model\n",
    "    model.compile(\n",
    "        optimizer=\"adam\",\n",
    "        loss=\"categorical_crossentropy\",\n",
    "        metrics=[\"accuracy\"]\n",
    "        )\n",
    "\n",
    "    # Returning the model\n",
    "    return model"
   ]
  },
  {
   "cell_type": "code",
   "execution_count": 4,
   "metadata": {},
   "outputs": [
    {
     "name": "stdout",
     "output_type": "stream",
     "text": [
      "WARNING:tensorflow:From C:\\Users\\Darshan Mourya\\AppData\\Local\\Packages\\PythonSoftwareFoundation.Python.3.10_qbz5n2kfra8p0\\LocalCache\\local-packages\\Python310\\site-packages\\keras\\src\\utils\\version_utils.py:76: The name tf.executing_eagerly_outside_functions is deprecated. Please use tf.compat.v1.executing_eagerly_outside_functions instead.\n",
      "\n",
      "WARNING:tensorflow:From C:\\Users\\Darshan Mourya\\AppData\\Local\\Packages\\PythonSoftwareFoundation.Python.3.10_qbz5n2kfra8p0\\LocalCache\\local-packages\\Python310\\site-packages\\keras\\src\\optimizers\\__init__.py:309: The name tf.train.Optimizer is deprecated. Please use tf.compat.v1.train.Optimizer instead.\n",
      "\n",
      "WARNING:tensorflow:From C:\\Users\\Darshan Mourya\\AppData\\Local\\Packages\\PythonSoftwareFoundation.Python.3.10_qbz5n2kfra8p0\\LocalCache\\local-packages\\Python310\\site-packages\\keras\\src\\engine\\training_v1.py:635: The name tf.data.Iterator is deprecated. Please use tf.compat.v1.data.Iterator instead.\n",
      "\n",
      "WARNING:tensorflow:From C:\\Users\\Darshan Mourya\\AppData\\Local\\Packages\\PythonSoftwareFoundation.Python.3.10_qbz5n2kfra8p0\\LocalCache\\local-packages\\Python310\\site-packages\\keras\\src\\engine\\training_utils_v1.py:50: The name tf.ragged.RaggedTensorValue is deprecated. Please use tf.compat.v1.ragged.RaggedTensorValue instead.\n",
      "\n",
      "Train on 60000 samples\n",
      "WARNING:tensorflow:OMP_NUM_THREADS is no longer used by the default Keras config. To configure the number of threads, use tf.config.threading APIs.\n",
      "Epoch 1/10\n",
      "60000/60000 [==============================] - 11s 186us/sample - loss: 0.2908 - accuracy: 0.9176\n",
      "Epoch 2/10\n",
      "60000/60000 [==============================] - 22s 368us/sample - loss: 0.0657 - accuracy: 0.9800\n",
      "Epoch 3/10\n",
      "60000/60000 [==============================] - 18s 302us/sample - loss: 0.0432 - accuracy: 0.9871\n",
      "Epoch 4/10\n",
      "60000/60000 [==============================] - 61s 1ms/sample - loss: 0.0328 - accuracy: 0.9895\n",
      "Epoch 5/10\n",
      "60000/60000 [==============================] - 24s 396us/sample - loss: 0.0239 - accuracy: 0.9926\n",
      "Epoch 6/10\n",
      "60000/60000 [==============================] - 9s 148us/sample - loss: 0.0197 - accuracy: 0.9936\n",
      "Epoch 7/10\n",
      "60000/60000 [==============================] - 9s 148us/sample - loss: 0.0163 - accuracy: 0.9949\n",
      "Epoch 8/10\n",
      "60000/60000 [==============================] - 9s 151us/sample - loss: 0.0144 - accuracy: 0.9953\n",
      "Epoch 9/10\n",
      "60000/60000 [==============================] - 9s 149us/sample - loss: 0.0113 - accuracy: 0.9964\n",
      "Epoch 10/10\n",
      "60000/60000 [==============================] - 9s 149us/sample - loss: 0.0094 - accuracy: 0.9969\n"
     ]
    },
    {
     "data": {
      "text/plain": [
       "<keras.src.callbacks.History at 0x28e624f66e0>"
      ]
     },
     "execution_count": 4,
     "metadata": {},
     "output_type": "execute_result"
    }
   ],
   "source": [
    "# Instantiating the model\n",
    "model = create_model()\n",
    "\n",
    "# Training the model\n",
    "model.fit(\n",
    "    x=train_images, \n",
    "    y=train_labels, \n",
    "    epochs=10,\n",
    "    batch_size=256)"
   ]
  },
  {
   "cell_type": "code",
   "execution_count": 5,
   "metadata": {},
   "outputs": [],
   "source": [
    "# Creating a classifier by wrapping our TF model in ART's KerasClassifier class\n",
    "classifier = KerasClassifier(\n",
    "    model=model, \n",
    "    clip_values=(min, max)\n",
    "    )"
   ]
  },
  {
   "cell_type": "code",
   "execution_count": 6,
   "metadata": {},
   "outputs": [
    {
     "name": "stdout",
     "output_type": "stream",
     "text": [
      "The target labels for poisoning are\n",
      " [[0. 0. 0. 0. 0. 1. 0. 0. 0. 0.]\n",
      " [0. 0. 0. 0. 0. 1. 0. 0. 0. 0.]\n",
      " [0. 0. 0. 0. 0. 1. 0. 0. 0. 0.]\n",
      " [0. 0. 0. 0. 0. 1. 0. 0. 0. 0.]\n",
      " [0. 0. 0. 0. 0. 1. 0. 0. 0. 0.]]\n"
     ]
    }
   ],
   "source": [
    "# Importing dependencies\n",
    "from art.attacks.poisoning import PoisoningAttackBackdoor, PoisoningAttackCleanLabelBackdoor\n",
    "from art.attacks.poisoning.perturbations import add_pattern_bd\n",
    "from art.utils import to_categorical\n",
    "\n",
    "# Defining a poisoning backdoor attack\n",
    "backdoor = PoisoningAttackBackdoor(perturbation=add_pattern_bd)\n",
    "\n",
    "# Defining a target label for poisoning\n",
    "target = to_categorical(\n",
    "    labels=np.repeat(a=5, repeats=5), \n",
    "    nb_classes=10\n",
    "    )\n",
    "\n",
    "# Inspecting the target labels\n",
    "print(f\"The target labels for poisoning are\\n {target}\")"
   ]
  },
  {
   "cell_type": "code",
   "execution_count": 7,
   "metadata": {},
   "outputs": [],
   "source": [
    "# Poisoning sample data\n",
    "poisoned_images, poisoned_labels = backdoor.poison(\n",
    "    x=train_images[:5], \n",
    "    y=target\n",
    "    )"
   ]
  },
  {
   "cell_type": "code",
   "execution_count": 8,
   "metadata": {},
   "outputs": [
    {
     "data": {
      "image/png": "[encoded data removed]",
      "text/plain": [
       "<Figure size 1500x500 with 5 Axes>"
      ]
     },
     "metadata": {},
     "output_type": "display_data"
    }
   ],
   "source": [
    "# Creating a figure and axes for the poisoned images\n",
    "fig, axes = plt.subplots(\n",
    "    nrows=1, \n",
    "    ncols=5, \n",
    "    squeeze=True, \n",
    "    figsize=(15, 5)\n",
    "    )\n",
    "\n",
    "# Plotting the poisoned images\n",
    "for i in range(len(poisoned_images)):\n",
    "    axes[i].imshow(X=poisoned_images[i])\n",
    "    axes[i].set_title(label=f\"Label: {np.argmax(poisoned_labels[i])}\")\n",
    "    axes[i].set_xticks(ticks=[])\n",
    "    axes[i].set_yticks(ticks=[])    \n",
    "\n",
    "# Showing the plot\n",
    "plt.show()"
   ]
  },
  {
   "cell_type": "markdown",
   "metadata": {},
   "source": [
    "## Defining a backdoor attack"
   ]
  },
  {
   "cell_type": "code",
   "execution_count": 9,
   "metadata": {},
   "outputs": [],
   "source": [
    "# Defining a target label for poisoning\n",
    "target = to_categorical(\n",
    "    labels=[9], \n",
    "    nb_classes=10\n",
    "    )[0]\n",
    "\n",
    "# Defining a clean label backdoor attack\n",
    "attack = PoisoningAttackCleanLabelBackdoor(\n",
    "    backdoor=backdoor, \n",
    "    proxy_classifier=classifier,\n",
    "    target=target, \n",
    "    pp_poison=0.75, \n",
    "    norm=2, \n",
    "    eps=5, \n",
    "    eps_step=0.1, \n",
    "    max_iter=200)"
   ]
  },
  {
   "cell_type": "code",
   "execution_count": 10,
   "metadata": {},
   "outputs": [
    {
     "name": "stderr",
     "output_type": "stream",
     "text": [
      "C:\\Users\\Darshan Mourya\\AppData\\Local\\Packages\\PythonSoftwareFoundation.Python.3.10_qbz5n2kfra8p0\\LocalCache\\local-packages\\Python310\\site-packages\\keras\\src\\engine\\training_v1.py:2359: UserWarning: `Model.state_updates` will be removed in a future version. This property should not be used in TensorFlow 2.0, as `updates` are applied automatically.\n",
      "  updates=self.state_updates,\n"
     ]
    },
    {
     "data": {
      "application/vnd.jupyter.widget-view+json": {
       "model_id": "edf047dd8cb1481294d6d07f9d4d493c",
       "version_major": 2,
       "version_minor": 0
      },
      "text/plain": [
       "PGD - Random Initializations:   0%|          | 0/1 [00:00<?, ?it/s]"
      ]
     },
     "metadata": {},
     "output_type": "display_data"
    },
    {
     "data": {
      "application/vnd.jupyter.widget-view+json": {
       "model_id": "5336e2d6aa9446598c8d6276d57e8c7e",
       "version_major": 2,
       "version_minor": 0
      },
      "text/plain": [
       "PGD - Iterations:   0%|          | 0/200 [00:00<?, ?it/s]"
      ]
     },
     "metadata": {},
     "output_type": "display_data"
    },
    {
     "data": {
      "application/vnd.jupyter.widget-view+json": {
       "model_id": "e0a7363c0e574a0fb7b75ddb63a06bae",
       "version_major": 2,
       "version_minor": 0
      },
      "text/plain": [
       "PGD - Random Initializations:   0%|          | 0/1 [00:00<?, ?it/s]"
      ]
     },
     "metadata": {},
     "output_type": "display_data"
    },
    {
     "data": {
      "application/vnd.jupyter.widget-view+json": {
       "model_id": "5462ad25ee2b4b25a90976be04fe93c9",
       "version_major": 2,
       "version_minor": 0
      },
      "text/plain": [
       "PGD - Iterations:   0%|          | 0/200 [00:00<?, ?it/s]"
      ]
     },
     "metadata": {},
     "output_type": "display_data"
    },
    {
     "data": {
      "application/vnd.jupyter.widget-view+json": {
       "model_id": "36fc50d1454641d9b38ce650968bdc0d",
       "version_major": 2,
       "version_minor": 0
      },
      "text/plain": [
       "PGD - Random Initializations:   0%|          | 0/1 [00:00<?, ?it/s]"
      ]
     },
     "metadata": {},
     "output_type": "display_data"
    },
    {
     "data": {
      "application/vnd.jupyter.widget-view+json": {
       "model_id": "9070217b2edc40ecb9e57cdc5c4897e9",
       "version_major": 2,
       "version_minor": 0
      },
      "text/plain": [
       "PGD - Iterations:   0%|          | 0/200 [00:00<?, ?it/s]"
      ]
     },
     "metadata": {},
     "output_type": "display_data"
    },
    {
     "data": {
      "application/vnd.jupyter.widget-view+json": {
       "model_id": "9704dbced2e74acbaaa85d36cd954f7e",
       "version_major": 2,
       "version_minor": 0
      },
      "text/plain": [
       "PGD - Random Initializations:   0%|          | 0/1 [00:00<?, ?it/s]"
      ]
     },
     "metadata": {},
     "output_type": "display_data"
    },
    {
     "data": {
      "application/vnd.jupyter.widget-view+json": {
       "model_id": "35ad8eba2d1e44efa59b38ad7c128166",
       "version_major": 2,
       "version_minor": 0
      },
      "text/plain": [
       "PGD - Iterations:   0%|          | 0/200 [00:00<?, ?it/s]"
      ]
     },
     "metadata": {},
     "output_type": "display_data"
    },
    {
     "data": {
      "application/vnd.jupyter.widget-view+json": {
       "model_id": "eb1145dc02184cc287e095bac0ff9bdb",
       "version_major": 2,
       "version_minor": 0
      },
      "text/plain": [
       "PGD - Random Initializations:   0%|          | 0/1 [00:00<?, ?it/s]"
      ]
     },
     "metadata": {},
     "output_type": "display_data"
    },
    {
     "data": {
      "application/vnd.jupyter.widget-view+json": {
       "model_id": "1c09878418264ff9821a9e1c508ab36c",
       "version_major": 2,
       "version_minor": 0
      },
      "text/plain": [
       "PGD - Iterations:   0%|          | 0/200 [00:00<?, ?it/s]"
      ]
     },
     "metadata": {},
     "output_type": "display_data"
    },
    {
     "data": {
      "application/vnd.jupyter.widget-view+json": {
       "model_id": "ea2db1c0d7b84f73a38c38f969b14249",
       "version_major": 2,
       "version_minor": 0
      },
      "text/plain": [
       "PGD - Random Initializations:   0%|          | 0/1 [00:00<?, ?it/s]"
      ]
     },
     "metadata": {},
     "output_type": "display_data"
    },
    {
     "data": {
      "application/vnd.jupyter.widget-view+json": {
       "model_id": "045b13a8d7c845c390097ea66a5c569d",
       "version_major": 2,
       "version_minor": 0
      },
      "text/plain": [
       "PGD - Iterations:   0%|          | 0/200 [00:00<?, ?it/s]"
      ]
     },
     "metadata": {},
     "output_type": "display_data"
    },
    {
     "data": {
      "application/vnd.jupyter.widget-view+json": {
       "model_id": "7513e7b715d1494a925efb5691711275",
       "version_major": 2,
       "version_minor": 0
      },
      "text/plain": [
       "PGD - Random Initializations:   0%|          | 0/1 [00:00<?, ?it/s]"
      ]
     },
     "metadata": {},
     "output_type": "display_data"
    },
    {
     "data": {
      "application/vnd.jupyter.widget-view+json": {
       "model_id": "bb14390cfaf94d5bb020d62acb4f28c8",
       "version_major": 2,
       "version_minor": 0
      },
      "text/plain": [
       "PGD - Iterations:   0%|          | 0/200 [00:00<?, ?it/s]"
      ]
     },
     "metadata": {},
     "output_type": "display_data"
    },
    {
     "data": {
      "application/vnd.jupyter.widget-view+json": {
       "model_id": "5b9a05431aa34d4dbbcf5f33ae2f5e74",
       "version_major": 2,
       "version_minor": 0
      },
      "text/plain": [
       "PGD - Random Initializations:   0%|          | 0/1 [00:00<?, ?it/s]"
      ]
     },
     "metadata": {},
     "output_type": "display_data"
    },
    {
     "data": {
      "application/vnd.jupyter.widget-view+json": {
       "model_id": "aef339a897fb479ba2c280b905bf370c",
       "version_major": 2,
       "version_minor": 0
      },
      "text/plain": [
       "PGD - Iterations:   0%|          | 0/200 [00:00<?, ?it/s]"
      ]
     },
     "metadata": {},
     "output_type": "display_data"
    },
    {
     "data": {
      "application/vnd.jupyter.widget-view+json": {
       "model_id": "9c50fa25afa444ac8afaa4bb5073451c",
       "version_major": 2,
       "version_minor": 0
      },
      "text/plain": [
       "PGD - Random Initializations:   0%|          | 0/1 [00:00<?, ?it/s]"
      ]
     },
     "metadata": {},
     "output_type": "display_data"
    },
    {
     "data": {
      "application/vnd.jupyter.widget-view+json": {
       "model_id": "f5017e1a826744838f2a5a4bbb11cc81",
       "version_major": 2,
       "version_minor": 0
      },
      "text/plain": [
       "PGD - Iterations:   0%|          | 0/200 [00:00<?, ?it/s]"
      ]
     },
     "metadata": {},
     "output_type": "display_data"
    },
    {
     "data": {
      "application/vnd.jupyter.widget-view+json": {
       "model_id": "ee0e337ecbf1484aa6aeac62c959632f",
       "version_major": 2,
       "version_minor": 0
      },
      "text/plain": [
       "PGD - Random Initializations:   0%|          | 0/1 [00:00<?, ?it/s]"
      ]
     },
     "metadata": {},
     "output_type": "display_data"
    },
    {
     "data": {
      "application/vnd.jupyter.widget-view+json": {
       "model_id": "0116fe8030b145aeb68ce906d1c923ad",
       "version_major": 2,
       "version_minor": 0
      },
      "text/plain": [
       "PGD - Iterations:   0%|          | 0/200 [00:00<?, ?it/s]"
      ]
     },
     "metadata": {},
     "output_type": "display_data"
    },
    {
     "data": {
      "application/vnd.jupyter.widget-view+json": {
       "model_id": "b8ae9956be384b38ab4ee525ca312476",
       "version_major": 2,
       "version_minor": 0
      },
      "text/plain": [
       "PGD - Random Initializations:   0%|          | 0/1 [00:00<?, ?it/s]"
      ]
     },
     "metadata": {},
     "output_type": "display_data"
    },
    {
     "data": {
      "application/vnd.jupyter.widget-view+json": {
       "model_id": "da6526b7322f4274a2f6d2d1553cfc71",
       "version_major": 2,
       "version_minor": 0
      },
      "text/plain": [
       "PGD - Iterations:   0%|          | 0/200 [00:00<?, ?it/s]"
      ]
     },
     "metadata": {},
     "output_type": "display_data"
    },
    {
     "data": {
      "application/vnd.jupyter.widget-view+json": {
       "model_id": "6ad0a6146cae4ea680bd8deec67d017e",
       "version_major": 2,
       "version_minor": 0
      },
      "text/plain": [
       "PGD - Random Initializations:   0%|          | 0/1 [00:00<?, ?it/s]"
      ]
     },
     "metadata": {},
     "output_type": "display_data"
    },
    {
     "data": {
      "application/vnd.jupyter.widget-view+json": {
       "model_id": "32d546c22b7d4147946a3f62d550b378",
       "version_major": 2,
       "version_minor": 0
      },
      "text/plain": [
       "PGD - Iterations:   0%|          | 0/200 [00:00<?, ?it/s]"
      ]
     },
     "metadata": {},
     "output_type": "display_data"
    },
    {
     "data": {
      "application/vnd.jupyter.widget-view+json": {
       "model_id": "90c47e7ba4da4edfad325233ce3dfb86",
       "version_major": 2,
       "version_minor": 0
      },
      "text/plain": [
       "PGD - Random Initializations:   0%|          | 0/1 [00:00<?, ?it/s]"
      ]
     },
     "metadata": {},
     "output_type": "display_data"
    },
    {
     "data": {
      "application/vnd.jupyter.widget-view+json": {
       "model_id": "c994ce49fea14891bd4cb375cc2882c5",
       "version_major": 2,
       "version_minor": 0
      },
      "text/plain": [
       "PGD - Iterations:   0%|          | 0/200 [00:00<?, ?it/s]"
      ]
     },
     "metadata": {},
     "output_type": "display_data"
    },
    {
     "data": {
      "application/vnd.jupyter.widget-view+json": {
       "model_id": "f387b9f629c74103821cfafa835b88a9",
       "version_major": 2,
       "version_minor": 0
      },
      "text/plain": [
       "PGD - Random Initializations:   0%|          | 0/1 [00:00<?, ?it/s]"
      ]
     },
     "metadata": {},
     "output_type": "display_data"
    },
    {
     "data": {
      "application/vnd.jupyter.widget-view+json": {
       "model_id": "9097a44228c9435eaa3d723abdc47ef6",
       "version_major": 2,
       "version_minor": 0
      },
      "text/plain": [
       "PGD - Iterations:   0%|          | 0/200 [00:00<?, ?it/s]"
      ]
     },
     "metadata": {},
     "output_type": "display_data"
    },
    {
     "data": {
      "application/vnd.jupyter.widget-view+json": {
       "model_id": "492159f8c3104c098bff66fa8e0620a0",
       "version_major": 2,
       "version_minor": 0
      },
      "text/plain": [
       "PGD - Random Initializations:   0%|          | 0/1 [00:00<?, ?it/s]"
      ]
     },
     "metadata": {},
     "output_type": "display_data"
    },
    {
     "data": {
      "application/vnd.jupyter.widget-view+json": {
       "model_id": "b39dd8c670984e65812929a4e6c303e4",
       "version_major": 2,
       "version_minor": 0
      },
      "text/plain": [
       "PGD - Iterations:   0%|          | 0/200 [00:00<?, ?it/s]"
      ]
     },
     "metadata": {},
     "output_type": "display_data"
    },
    {
     "data": {
      "application/vnd.jupyter.widget-view+json": {
       "model_id": "a6a524a561b5460fb31859d594690f0b",
       "version_major": 2,
       "version_minor": 0
      },
      "text/plain": [
       "PGD - Random Initializations:   0%|          | 0/1 [00:00<?, ?it/s]"
      ]
     },
     "metadata": {},
     "output_type": "display_data"
    },
    {
     "data": {
      "application/vnd.jupyter.widget-view+json": {
       "model_id": "7359c34053574a8a80871ad80479b92b",
       "version_major": 2,
       "version_minor": 0
      },
      "text/plain": [
       "PGD - Iterations:   0%|          | 0/200 [00:00<?, ?it/s]"
      ]
     },
     "metadata": {},
     "output_type": "display_data"
    },
    {
     "data": {
      "application/vnd.jupyter.widget-view+json": {
       "model_id": "d5717a4e8f99450a9cc32f6598448165",
       "version_major": 2,
       "version_minor": 0
      },
      "text/plain": [
       "PGD - Random Initializations:   0%|          | 0/1 [00:00<?, ?it/s]"
      ]
     },
     "metadata": {},
     "output_type": "display_data"
    },
    {
     "data": {
      "application/vnd.jupyter.widget-view+json": {
       "model_id": "7e4e009a6b1c4273a73ea66b4d89d7d1",
       "version_major": 2,
       "version_minor": 0
      },
      "text/plain": [
       "PGD - Iterations:   0%|          | 0/200 [00:00<?, ?it/s]"
      ]
     },
     "metadata": {},
     "output_type": "display_data"
    },
    {
     "data": {
      "application/vnd.jupyter.widget-view+json": {
       "model_id": "e7df4e564d724e4094b199b531348976",
       "version_major": 2,
       "version_minor": 0
      },
      "text/plain": [
       "PGD - Random Initializations:   0%|          | 0/1 [00:00<?, ?it/s]"
      ]
     },
     "metadata": {},
     "output_type": "display_data"
    },
    {
     "data": {
      "application/vnd.jupyter.widget-view+json": {
       "model_id": "02071e2062254a87a1e4cdfe9c963060",
       "version_major": 2,
       "version_minor": 0
      },
      "text/plain": [
       "PGD - Iterations:   0%|          | 0/200 [00:00<?, ?it/s]"
      ]
     },
     "metadata": {},
     "output_type": "display_data"
    },
    {
     "data": {
      "application/vnd.jupyter.widget-view+json": {
       "model_id": "c85a2e3240c242d5ba952bf2a5ea6c33",
       "version_major": 2,
       "version_minor": 0
      },
      "text/plain": [
       "PGD - Random Initializations:   0%|          | 0/1 [00:00<?, ?it/s]"
      ]
     },
     "metadata": {},
     "output_type": "display_data"
    },
    {
     "data": {
      "application/vnd.jupyter.widget-view+json": {
       "model_id": "e2939aee40f241fcbc139577c594f6c2",
       "version_major": 2,
       "version_minor": 0
      },
      "text/plain": [
       "PGD - Iterations:   0%|          | 0/200 [00:00<?, ?it/s]"
      ]
     },
     "metadata": {},
     "output_type": "display_data"
    },
    {
     "data": {
      "application/vnd.jupyter.widget-view+json": {
       "model_id": "1aea88c40fc6458cbdca98de10ae32e1",
       "version_major": 2,
       "version_minor": 0
      },
      "text/plain": [
       "PGD - Random Initializations:   0%|          | 0/1 [00:00<?, ?it/s]"
      ]
     },
     "metadata": {},
     "output_type": "display_data"
    },
    {
     "data": {
      "application/vnd.jupyter.widget-view+json": {
       "model_id": "3d8afbba8b8a4910a6c30e8252a4220b",
       "version_major": 2,
       "version_minor": 0
      },
      "text/plain": [
       "PGD - Iterations:   0%|          | 0/200 [00:00<?, ?it/s]"
      ]
     },
     "metadata": {},
     "output_type": "display_data"
    },
    {
     "data": {
      "application/vnd.jupyter.widget-view+json": {
       "model_id": "65f7b7ef902f4465911461b23bffe5a5",
       "version_major": 2,
       "version_minor": 0
      },
      "text/plain": [
       "PGD - Random Initializations:   0%|          | 0/1 [00:00<?, ?it/s]"
      ]
     },
     "metadata": {},
     "output_type": "display_data"
    },
    {
     "data": {
      "application/vnd.jupyter.widget-view+json": {
       "model_id": "3ad2efc348ee4eb19270e64c2c76bfcd",
       "version_major": 2,
       "version_minor": 0
      },
      "text/plain": [
       "PGD - Iterations:   0%|          | 0/200 [00:00<?, ?it/s]"
      ]
     },
     "metadata": {},
     "output_type": "display_data"
    },
    {
     "data": {
      "application/vnd.jupyter.widget-view+json": {
       "model_id": "4088c3826aaa4f8e9eb1633d60b18217",
       "version_major": 2,
       "version_minor": 0
      },
      "text/plain": [
       "PGD - Random Initializations:   0%|          | 0/1 [00:00<?, ?it/s]"
      ]
     },
     "metadata": {},
     "output_type": "display_data"
    },
    {
     "data": {
      "application/vnd.jupyter.widget-view+json": {
       "model_id": "832c2a533aa64d968e08cd55248eed1b",
       "version_major": 2,
       "version_minor": 0
      },
      "text/plain": [
       "PGD - Iterations:   0%|          | 0/200 [00:00<?, ?it/s]"
      ]
     },
     "metadata": {},
     "output_type": "display_data"
    },
    {
     "data": {
      "application/vnd.jupyter.widget-view+json": {
       "model_id": "6de1e709ca004c36b341daf1346f6654",
       "version_major": 2,
       "version_minor": 0
      },
      "text/plain": [
       "PGD - Random Initializations:   0%|          | 0/1 [00:00<?, ?it/s]"
      ]
     },
     "metadata": {},
     "output_type": "display_data"
    },
    {
     "data": {
      "application/vnd.jupyter.widget-view+json": {
       "model_id": "a8433043798a4360b37cced4e69e4a08",
       "version_major": 2,
       "version_minor": 0
      },
      "text/plain": [
       "PGD - Iterations:   0%|          | 0/200 [00:00<?, ?it/s]"
      ]
     },
     "metadata": {},
     "output_type": "display_data"
    }
   ],
   "source": [
    "# Poisoning training data\n",
    "poisoned_images, poisoned_labels = attack.poison(\n",
    "    x=train_images[:10000], \n",
    "    y=train_labels[:10000]\n",
    "    )"
   ]
  },
  {
   "cell_type": "code",
   "execution_count": 11,
   "metadata": {},
   "outputs": [
    {
     "data": {
      "image/png": "[encoded data removed]",
      "text/plain": [
       "<Figure size 1000x2500 with 10 Axes>"
      ]
     },
     "metadata": {},
     "output_type": "display_data"
    }
   ],
   "source": [
    "# Getting the indices of the images\n",
    "# whose target corresponds to our backdoor target\n",
    "poisoned_indices = np.all(\n",
    "        a=(poisoned_labels == target), \n",
    "        axis=1\n",
    "        )\n",
    "\n",
    "# Getting a few images from the poisoned and clean dataset for comparison\n",
    "sample_poisoned_images = poisoned_images[poisoned_indices][:5]\n",
    "sample_clean_images = train_images[:10000][poisoned_indices][:5]\n",
    "\n",
    "# Defining a number of rows and columns for the plot\n",
    "nrows, ncols = 5, 2\n",
    "\n",
    "# Creating a figure and axes\n",
    "fig, axes = plt.subplots(\n",
    "        nrows=nrows, \n",
    "        ncols=ncols, \n",
    "        figsize=(10, 25)\n",
    "        )\n",
    "\n",
    "# Defining a counting variable\n",
    "counter = 0\n",
    "\n",
    "# Indicating the purpose of each column\n",
    "axes[0, 0].set_title(\n",
    "        label=\"Images from the poisoned dataset\", \n",
    "        pad=25\n",
    "        )\n",
    "axes[0, 1].set_title(\n",
    "        label=\"Images from the clean dataset\", \n",
    "        pad=25\n",
    "        )\n",
    "\n",
    "# Iterating over the axis rows in our figure\n",
    "for i in range(nrows):    \n",
    "        # Plotting the image from the poisoned dataset,\n",
    "        # turning off axis ticks,\n",
    "        # and setting axis title\n",
    "        axes[i, 0].imshow(sample_poisoned_images[counter])        \n",
    "        axes[i, 0].set_xticks(ticks=[])\n",
    "        axes[i, 0].set_yticks(ticks=[])\n",
    "        \n",
    "\n",
    "        # Plotting the image from the clean dataset,\n",
    "        # turning off axis ticks,\n",
    "        # and setting axis title\n",
    "        axes[i, 1].imshow(sample_clean_images[counter])\n",
    "        axes[i, 1].set_xticks(ticks=[])\n",
    "        axes[i, 1].set_yticks(ticks=[])\n",
    "\n",
    "\n",
    "        # Incrementing counter value\n",
    "        counter += 1\n",
    "\n",
    "# Showing the plot\n",
    "plt.show()"
   ]
  },
  {
   "cell_type": "code",
   "execution_count": 12,
   "metadata": {},
   "outputs": [],
   "source": [
    "# Function for creating victim model\n",
    "def create_victim_model():\n",
    "    # Defining the model's architecture\n",
    "    model = tf.keras.models.Sequential([\n",
    "        Conv2D(filters=32, kernel_size=3, activation=\"relu\", input_shape=(28, 28, 1)),\n",
    "        Conv2D(filters=32, kernel_size=3, activation=\"relu\"),\n",
    "        MaxPool2D(pool_size=2),\n",
    "        Flatten(),\n",
    "        Dense(units=10, activation=\"softmax\")\n",
    "    ])\n",
    "    \n",
    "    # Compiling the model\n",
    "    model.compile(\n",
    "        loss='categorical_crossentropy', \n",
    "        optimizer='adam', \n",
    "        metrics=['accuracy']\n",
    "        )\n",
    "\n",
    "    # Returning the model\n",
    "    return model   "
   ]
  },
  {
   "cell_type": "code",
   "execution_count": 13,
   "metadata": {},
   "outputs": [
    {
     "name": "stdout",
     "output_type": "stream",
     "text": [
      "WARNING:tensorflow:From C:\\Users\\Darshan Mourya\\AppData\\Local\\Packages\\PythonSoftwareFoundation.Python.3.10_qbz5n2kfra8p0\\LocalCache\\local-packages\\Python310\\site-packages\\keras\\src\\layers\\pooling\\max_pooling2d.py:161: The name tf.nn.max_pool is deprecated. Please use tf.nn.max_pool2d instead.\n",
      "\n",
      "Train on 10000 samples\n",
      "Epoch 1/10\n",
      "10000/10000 [==============================] - 4s 436us/sample - loss: 0.4124 - accuracy: 0.8777\n",
      "Epoch 2/10\n",
      "10000/10000 [==============================] - 3s 345us/sample - loss: 0.1260 - accuracy: 0.9632\n",
      "Epoch 3/10\n",
      "10000/10000 [==============================] - 3s 270us/sample - loss: 0.0833 - accuracy: 0.9759\n",
      "Epoch 4/10\n",
      "10000/10000 [==============================] - 3s 268us/sample - loss: 0.0539 - accuracy: 0.9851\n",
      "Epoch 5/10\n",
      "10000/10000 [==============================] - 3s 271us/sample - loss: 0.0368 - accuracy: 0.9901\n",
      "Epoch 6/10\n",
      "10000/10000 [==============================] - 3s 275us/sample - loss: 0.0297 - accuracy: 0.9903\n",
      "Epoch 7/10\n",
      "10000/10000 [==============================] - 3s 269us/sample - loss: 0.0218 - accuracy: 0.9925\n",
      "Epoch 8/10\n",
      "10000/10000 [==============================] - 3s 270us/sample - loss: 0.0138 - accuracy: 0.9961\n",
      "Epoch 9/10\n",
      "10000/10000 [==============================] - 3s 274us/sample - loss: 0.0152 - accuracy: 0.9945\n",
      "Epoch 10/10\n",
      "10000/10000 [==============================] - 3s 275us/sample - loss: 0.0130 - accuracy: 0.9954\n"
     ]
    },
    {
     "data": {
      "text/plain": [
       "<keras.src.callbacks.History at 0x28e90d0fbb0>"
      ]
     },
     "execution_count": 13,
     "metadata": {},
     "output_type": "execute_result"
    }
   ],
   "source": [
    "# Creating and training a victim classifier\n",
    "# with the poisoned data\n",
    "model_poisoned = create_victim_model()\n",
    "model_poisoned.fit(\n",
    "    x=poisoned_images, \n",
    "    y=poisoned_labels, \n",
    "    epochs=10\n",
    "    )"
   ]
  },
  {
   "cell_type": "markdown",
   "metadata": {},
   "source": [
    "## Poisoning data at inference time"
   ]
  },
  {
   "cell_type": "code",
   "execution_count": 14,
   "metadata": {},
   "outputs": [],
   "source": [
    "# Getting the indices of the test images whose target \n",
    "# is different from the backdoor target\n",
    "not_target = np.logical_not(np.all(\n",
    "    a=test_labels == target, \n",
    "    axis=1\n",
    "    ))\n",
    "\n",
    "# Poisoning the test data while keeping the labels the same\n",
    "px_test, py_test = backdoor.poison(\n",
    "    x=test_images[not_target], \n",
    "    y=test_labels[not_target]\n",
    "    )"
   ]
  },
  {
   "cell_type": "code",
   "execution_count": 15,
   "metadata": {},
   "outputs": [
    {
     "data": {
      "image/png": "[encoded data removed]",
      "text/plain": [
       "<Figure size 2500x1000 with 10 Axes>"
      ]
     },
     "metadata": {},
     "output_type": "display_data"
    }
   ],
   "source": [
    "# Setting the number of rows and columns for the plot\n",
    "nrows, ncols = 2, 5\n",
    "\n",
    "# Creating a figure and axes\n",
    "fig, axes = plt.subplots(\n",
    "    nrows=nrows, \n",
    "    ncols=ncols, \n",
    "    figsize=(25, 10)\n",
    "    )\n",
    "\n",
    "# Defining a counting variable\n",
    "counter = 0\n",
    "\n",
    "# Iterating over rows and cols,\n",
    "# plotting poisoned test images\n",
    "# along with their true targets\n",
    "for i in range(nrows):\n",
    "    for j in range(ncols):\n",
    "        axes[i, j].imshow(px_test[counter])\n",
    "        axes[i, j].set_title(label=f\"True label: {np.argmax(py_test[counter])}\")\n",
    "        axes[i, j].set_xticks(ticks=[])\n",
    "        axes[i, j].set_yticks(ticks=[])\n",
    "\n",
    "        # Incrementing the counter\n",
    "        counter += 1"
   ]
  },
  {
   "cell_type": "code",
   "execution_count": 16,
   "metadata": {},
   "outputs": [
    {
     "name": "stderr",
     "output_type": "stream",
     "text": [
      "C:\\Users\\Darshan Mourya\\AppData\\Local\\Packages\\PythonSoftwareFoundation.Python.3.10_qbz5n2kfra8p0\\LocalCache\\local-packages\\Python310\\site-packages\\keras\\src\\engine\\training_v1.py:2335: UserWarning: `Model.state_updates` will be removed in a future version. This property should not be used in TensorFlow 2.0, as `updates` are applied automatically.\n",
      "  updates = self.state_updates\n"
     ]
    },
    {
     "name": "stdout",
     "output_type": "stream",
     "text": [
      "Clean test loss: 0.09 vs poisoned test loss: 5.68\n",
      "Clean test accuracy: 0.98 vs poisoned test accuracy: 0.31\n"
     ]
    }
   ],
   "source": [
    "# Evaluating the poisoned classifier on clean test data\n",
    "scores_clean = model_poisoned.evaluate(\n",
    "    x=test_images, \n",
    "    y=test_labels\n",
    "    )\n",
    "\n",
    "# Evaluating the poisoned classifier on poisoned test data\n",
    "scores_poisoned = model_poisoned.evaluate(\n",
    "    x=px_test, \n",
    "    y=py_test\n",
    "    )\n",
    "\n",
    "# Comparing test losses\n",
    "print(f\"Clean test loss: {scores_clean[0]:.2f} \" \n",
    "      f\"vs poisoned test loss: {scores_poisoned[0]:.2f}\")\n",
    "\n",
    "# Comparing test accuracies\n",
    "print(f\"Clean test accuracy: {scores_clean[1]:.2f} \" \n",
    "      f\"vs poisoned test accuracy: {scores_poisoned[1]:.2f}\")"
   ]
  },
  {
   "cell_type": "code",
   "execution_count": 17,
   "metadata": {},
   "outputs": [
    {
     "data": {
      "image/png": "[encoded data removed]",
      "text/plain": [
       "<Figure size 2500x1000 with 10 Axes>"
      ]
     },
     "metadata": {},
     "output_type": "display_data"
    }
   ],
   "source": [
    "# Setting the number of rows and columns for the plot\n",
    "nrows, ncols = 2, 5\n",
    "\n",
    "# Creating a figure and axes\n",
    "fig, axes = plt.subplots(\n",
    "    nrows=nrows, \n",
    "    ncols=ncols, \n",
    "    figsize=(25, 10)\n",
    "    )\n",
    "\n",
    "# Getting predictions for the first ten poisoned images\n",
    "poisoned_predictions = model_poisoned.predict(x=px_test[:10])\n",
    "\n",
    "# Defining a counting variable\n",
    "counter = 0\n",
    "\n",
    "# Iterating over rows and cols,\n",
    "# plotting poisoned images\n",
    "# along with their predictions\n",
    "for i in range(nrows):\n",
    "    for j in range(ncols):\n",
    "        axes[i, j].imshow(px_test[counter])\n",
    "        axes[i, j].set_title(label=f\"Prediction: {np.argmax(poisoned_predictions[counter])}\")\n",
    "        axes[i, j].set_xticks(ticks=[])\n",
    "        axes[i, j].set_yticks(ticks=[])\n",
    "\n",
    "        # Incrementing the counter\n",
    "        counter += 1"
   ]
  },
  {
   "cell_type": "code",
   "execution_count": null,
   "metadata": {},
   "outputs": [],
   "source": []
  }
 ],
 "metadata": {
  "interpreter": {
   "hash": "0281ae4893e10b52c4d5b801530748bd8cbe731f1c41bfa8f327e88220bd1102"
  },
  "kernelspec": {
   "display_name": "Python 3.9.6 64-bit",
   "language": "python",
   "name": "python3"
  },
  "language_info": {
   "codemirror_mode": {
    "name": "ipython",
    "version": 3
   },
   "file_extension": ".py",
   "mimetype": "text/x-python",
   "name": "python",
   "nbconvert_exporter": "python",
   "pygments_lexer": "ipython3",
   "version": "3.10.11"
  },
  "orig_nbformat": 4
 },
 "nbformat": 4,
 "nbformat_minor": 2
}
