{
 "cells": [
  {
   "cell_type": "markdown",
   "metadata": {},
   "source": [
    "Pytorch Classifier"
   ]
  },
  {
   "cell_type": "code",
   "execution_count": 2,
   "metadata": {},
   "outputs": [],
   "source": [
    "# Importing dependencies\n",
    "import tensorflow as tf\n",
    "from tensorflow.keras.layers import Conv2D, MaxPool2D, Dense, Flatten\n",
    "import numpy as np\n",
    "import matplotlib.pyplot as plt\n",
    "import matplotlib\n",
    "from art.attacks.evasion import DeepFool\n",
    "from art.utils import load_dataset\n",
    "\n",
    "# Disabling eager execution from TF 2 \n",
    "tf.compat.v1.disable_eager_execution()\n",
    "\n",
    "# Increasing Matplotlib font size\n",
    "matplotlib.rcParams.update({\"font.size\": 14})"
   ]
  },
  {
   "cell_type": "code",
   "execution_count": 3,
   "metadata": {},
   "outputs": [],
   "source": [
    "# Step 1a: Swap axes to PyTorch's NCHW format\n",
    "(x_train, y_train), (x_test, y_test), min_pixel_value, max_pixel_value = load_dataset(name=\"mnist\")\n",
    "\n",
    "\n",
    "# Step 2: Create the model\n",
    "# Step 1: Load the MNIST dataset\n",
    "\n"
   ]
  },
  {
   "cell_type": "code",
   "execution_count": 4,
   "metadata": {},
   "outputs": [],
   "source": [
    "# Function for creating model\n",
    "def create_model():\n",
    "    # Defining the model\n",
    "    model = tf.keras.models.Sequential([\n",
    "        Conv2D(filters=32, kernel_size=3, activation=\"relu\", input_shape=(28, 28, 1)),\n",
    "        Conv2D(filters=32, kernel_size=3, activation=\"relu\", strides=2),\n",
    "        Conv2D(filters=64, kernel_size=3, activation=\"relu\"),\n",
    "        Conv2D(filters=64, kernel_size=3, activation=\"relu\", strides=2),\n",
    "        Flatten(),\n",
    "        Dense(units=100, activation=\"relu\"),\n",
    "        Dense(units=10, activation=\"softmax\")\n",
    "    ])\n",
    "\n",
    "    # Compiling the model\n",
    "    model.compile(\n",
    "        optimizer=\"adam\",\n",
    "        loss=\"categorical_crossentropy\",\n",
    "        metrics=[\"accuracy\"]\n",
    "        )\n",
    "\n",
    "    # Returning the model\n",
    "    return model"
   ]
  },
  {
   "cell_type": "code",
   "execution_count": 5,
   "metadata": {},
   "outputs": [
    {
     "name": "stdout",
     "output_type": "stream",
     "text": [
      "WARNING:tensorflow:From C:\\Users\\Darshan Mourya\\AppData\\Local\\Packages\\PythonSoftwareFoundation.Python.3.10_qbz5n2kfra8p0\\LocalCache\\local-packages\\Python310\\site-packages\\keras\\src\\utils\\version_utils.py:76: The name tf.executing_eagerly_outside_functions is deprecated. Please use tf.compat.v1.executing_eagerly_outside_functions instead.\n",
      "\n",
      "WARNING:tensorflow:From C:\\Users\\Darshan Mourya\\AppData\\Local\\Packages\\PythonSoftwareFoundation.Python.3.10_qbz5n2kfra8p0\\LocalCache\\local-packages\\Python310\\site-packages\\keras\\src\\optimizers\\__init__.py:309: The name tf.train.Optimizer is deprecated. Please use tf.compat.v1.train.Optimizer instead.\n",
      "\n",
      "WARNING:tensorflow:From C:\\Users\\Darshan Mourya\\AppData\\Local\\Packages\\PythonSoftwareFoundation.Python.3.10_qbz5n2kfra8p0\\LocalCache\\local-packages\\Python310\\site-packages\\keras\\src\\engine\\training_v1.py:635: The name tf.data.Iterator is deprecated. Please use tf.compat.v1.data.Iterator instead.\n",
      "\n",
      "WARNING:tensorflow:From C:\\Users\\Darshan Mourya\\AppData\\Local\\Packages\\PythonSoftwareFoundation.Python.3.10_qbz5n2kfra8p0\\LocalCache\\local-packages\\Python310\\site-packages\\keras\\src\\engine\\training_utils_v1.py:50: The name tf.ragged.RaggedTensorValue is deprecated. Please use tf.compat.v1.ragged.RaggedTensorValue instead.\n",
      "\n",
      "Train on 60000 samples\n",
      "WARNING:tensorflow:OMP_NUM_THREADS is no longer used by the default Keras config. To configure the number of threads, use tf.config.threading APIs.\n",
      "Epoch 1/10\n",
      "60000/60000 [==============================] - 10s 168us/sample - loss: 0.3176 - accuracy: 0.9025\n",
      "Epoch 2/10\n",
      "60000/60000 [==============================] - 10s 165us/sample - loss: 0.0693 - accuracy: 0.9794\n",
      "Epoch 3/10\n",
      "60000/60000 [==============================] - 10s 165us/sample - loss: 0.0464 - accuracy: 0.9861\n",
      "Epoch 4/10\n",
      "60000/60000 [==============================] - 10s 174us/sample - loss: 0.0353 - accuracy: 0.9888\n",
      "Epoch 5/10\n",
      "60000/60000 [==============================] - 10s 164us/sample - loss: 0.0280 - accuracy: 0.9914\n",
      "Epoch 6/10\n",
      "60000/60000 [==============================] - 10s 170us/sample - loss: 0.0233 - accuracy: 0.9926\n",
      "Epoch 7/10\n",
      "60000/60000 [==============================] - 9s 152us/sample - loss: 0.0188 - accuracy: 0.9940\n",
      "Epoch 8/10\n",
      "60000/60000 [==============================] - 10s 159us/sample - loss: 0.0149 - accuracy: 0.9951\n",
      "Epoch 9/10\n",
      "60000/60000 [==============================] - 9s 154us/sample - loss: 0.0127 - accuracy: 0.9961\n",
      "Epoch 10/10\n",
      "60000/60000 [==============================] - 10s 164us/sample - loss: 0.0119 - accuracy: 0.9958\n"
     ]
    },
    {
     "data": {
      "text/plain": [
       "<keras.src.callbacks.History at 0x21b7c7f4760>"
      ]
     },
     "execution_count": 5,
     "metadata": {},
     "output_type": "execute_result"
    }
   ],
   "source": [
    "# Instantiating the model\n",
    "model = create_model()\n",
    "\n",
    "# Training the model\n",
    "model.fit(\n",
    "    x=x_train, \n",
    "    y=y_train, \n",
    "    epochs=10,\n",
    "    batch_size=256)"
   ]
  },
  {
   "cell_type": "code",
   "execution_count": 8,
   "metadata": {},
   "outputs": [],
   "source": [
    "from art.estimators.classification import KerasClassifier\n",
    "# Creating a classifier by wrapping our TF model in ART's KerasClassifier class\n",
    "classifier = KerasClassifier(\n",
    "    model=model, \n",
    "    clip_values=(min_pixel_value, max_pixel_value)\n",
    "    )"
   ]
  },
  {
   "cell_type": "code",
   "execution_count": 37,
   "metadata": {},
   "outputs": [
    {
     "data": {
      "application/vnd.jupyter.widget-view+json": {
       "model_id": "a5c1755dd85640daab0ca2e1f82b8774",
       "version_major": 2,
       "version_minor": 0
      },
      "text/plain": [
       "DeepFool:   0%|          | 0/910 [00:00<?, ?it/s]"
      ]
     },
     "metadata": {},
     "output_type": "display_data"
    }
   ],
   "source": [
    "\n",
    "attack = DeepFool(\n",
    "    classifier=classifier,\n",
    "    max_iter=5,\n",
    "    epsilon=50,\n",
    "    nb_grads=3,\n",
    "    batch_size=11,\n",
    "\n",
    ")\n",
    "x_test_adv = attack.generate(x=x_test)\n"
   ]
  },
  {
   "cell_type": "code",
   "execution_count": 38,
   "metadata": {},
   "outputs": [
    {
     "name": "stdout",
     "output_type": "stream",
     "text": [
      "test loss: 12.78 test accuracy: 0.10\n"
     ]
    }
   ],
   "source": [
    "# Evaluating the poisoned classifier on poisoned test data\n",
    "scores_adv = model.evaluate(\n",
    "    x=x_test_adv, \n",
    "    y=y_test\n",
    "    )\n",
    "\n",
    "# Comparing test losses\n",
    "print(f\"test loss: {scores_adv[0]:.2f} \" \n",
    "      f\"test accuracy: {scores_adv[1]:.2f}\")\n"
   ]
  },
  {
   "cell_type": "code",
   "execution_count": 39,
   "metadata": {},
   "outputs": [
    {
     "data": {
      "text/plain": [
       "<matplotlib.image.AxesImage at 0x21bb2b0b190>"
      ]
     },
     "execution_count": 39,
     "metadata": {},
     "output_type": "execute_result"
    },
    {
     "data": {
      "image/png": "[encoded data removed]",
      "text/plain": [
       "<Figure size 640x480 with 1 Axes>"
      ]
     },
     "metadata": {},
     "output_type": "display_data"
    }
   ],
   "source": [
    "plt.imshow(X=x_test_adv[0].squeeze())"
   ]
  },
  {
   "cell_type": "markdown",
   "metadata": {},
   "source": []
  },
  {
   "cell_type": "code",
   "execution_count": null,
   "metadata": {},
   "outputs": [],
   "source": []
  }
 ],
 "metadata": {
  "kernelspec": {
   "display_name": "Python 3",
   "language": "python",
   "name": "python3"
  },
  "language_info": {
   "codemirror_mode": {
    "name": "ipython",
    "version": 3
   },
   "file_extension": ".py",
   "mimetype": "text/x-python",
   "name": "python",
   "nbconvert_exporter": "python",
   "pygments_lexer": "ipython3",
   "version": "3.10.11"
  }
 },
 "nbformat": 4,
 "nbformat_minor": 2
}
