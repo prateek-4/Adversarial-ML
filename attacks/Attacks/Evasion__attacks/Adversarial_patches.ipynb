{
 "cells": [
  {
   "cell_type": "code",
   "execution_count": 1,
   "metadata": {},
   "outputs": [
    {
     "name": "stdout",
     "output_type": "stream",
     "text": [
      "WARNING:tensorflow:From C:\\Users\\Darshan Mourya\\AppData\\Local\\Packages\\PythonSoftwareFoundation.Python.3.10_qbz5n2kfra8p0\\LocalCache\\local-packages\\Python310\\site-packages\\keras\\src\\losses.py:2976: The name tf.losses.sparse_softmax_cross_entropy is deprecated. Please use tf.compat.v1.losses.sparse_softmax_cross_entropy instead.\n",
      "\n",
      "WARNING:tensorflow:From C:\\Users\\Darshan Mourya\\AppData\\Local\\Temp\\ipykernel_24400\\2220488224.py:3: The name tf.disable_eager_execution is deprecated. Please use tf.compat.v1.disable_eager_execution instead.\n",
      "\n"
     ]
    }
   ],
   "source": [
    "# Importing dependencies\n",
    "import tensorflow as tf\n",
    "tf.compat.v1.disable_eager_execution()\n",
    "from tensorflow.keras.layers import Conv2D, MaxPool2D, Dense, Flatten\n",
    "\n",
    "from art.attacks.evasion import AdversarialPatchTensorFlowV2\n",
    "from art.utils import load_dataset, to_categorical\n",
    "import numpy as np\n",
    "import matplotlib\n",
    "import matplotlib.pyplot as plt\n"
   ]
  },
  {
   "cell_type": "code",
   "execution_count": 2,
   "metadata": {},
   "outputs": [],
   "source": [
    "# Loading the dataset\n",
    "(train_images_original, train_labels_original), (test_images_original, test_labels_original), min, max = load_dataset(name=\"cifar10\")\n"
   ]
  },
  {
   "cell_type": "code",
   "execution_count": 3,
   "metadata": {},
   "outputs": [],
   "source": [
    "# Function for creating model\n",
    "# For the next of the illustrations we will use CNN model\n",
    "\n",
    "def create_model():\n",
    "    # Defining the model\n",
    "    model = tf.keras.models.Sequential([\n",
    "        Conv2D(filters=32, kernel_size=3, activation=\"relu\", input_shape=(32, 32, 3)),\n",
    "        Conv2D(filters=32, kernel_size=3, activation=\"relu\", strides=2),\n",
    "        Conv2D(filters=64, kernel_size=3, activation=\"relu\"),\n",
    "        Conv2D(filters=64, kernel_size=3, activation=\"relu\", strides=2),\n",
    "        Flatten(),\n",
    "        Dense(units=100, activation=\"relu\"),\n",
    "        Dense(units=10, activation=\"softmax\")\n",
    "    ])\n",
    "\n",
    "    model.compile(\n",
    "        optimizer=\"adam\",\n",
    "        loss=\"categorical_crossentropy\",\n",
    "        metrics=[\"accuracy\"]\n",
    "    )\n",
    "\n",
    "    return model\n"
   ]
  },
  {
   "cell_type": "code",
   "execution_count": 4,
   "metadata": {},
   "outputs": [
    {
     "name": "stdout",
     "output_type": "stream",
     "text": [
      "WARNING:tensorflow:From C:\\Users\\Darshan Mourya\\AppData\\Local\\Packages\\PythonSoftwareFoundation.Python.3.10_qbz5n2kfra8p0\\LocalCache\\local-packages\\Python310\\site-packages\\keras\\src\\utils\\version_utils.py:76: The name tf.executing_eagerly_outside_functions is deprecated. Please use tf.compat.v1.executing_eagerly_outside_functions instead.\n",
      "\n",
      "WARNING:tensorflow:From C:\\Users\\Darshan Mourya\\AppData\\Local\\Packages\\PythonSoftwareFoundation.Python.3.10_qbz5n2kfra8p0\\LocalCache\\local-packages\\Python310\\site-packages\\keras\\src\\optimizers\\__init__.py:309: The name tf.train.Optimizer is deprecated. Please use tf.compat.v1.train.Optimizer instead.\n",
      "\n",
      "WARNING:tensorflow:From C:\\Users\\Darshan Mourya\\AppData\\Local\\Packages\\PythonSoftwareFoundation.Python.3.10_qbz5n2kfra8p0\\LocalCache\\local-packages\\Python310\\site-packages\\keras\\src\\engine\\training_v1.py:635: The name tf.data.Iterator is deprecated. Please use tf.compat.v1.data.Iterator instead.\n",
      "\n",
      "WARNING:tensorflow:From C:\\Users\\Darshan Mourya\\AppData\\Local\\Packages\\PythonSoftwareFoundation.Python.3.10_qbz5n2kfra8p0\\LocalCache\\local-packages\\Python310\\site-packages\\keras\\src\\engine\\training_utils_v1.py:50: The name tf.ragged.RaggedTensorValue is deprecated. Please use tf.compat.v1.ragged.RaggedTensorValue instead.\n",
      "\n",
      "Train on 50000 samples\n",
      "WARNING:tensorflow:OMP_NUM_THREADS is no longer used by the default Keras config. To configure the number of threads, use tf.config.threading APIs.\n",
      "Epoch 1/10\n",
      "50000/50000 [==============================] - 22s 434us/sample - loss: 1.5301 - accuracy: 0.4417\n",
      "Epoch 2/10\n",
      "50000/50000 [==============================] - 96s 2ms/sample - loss: 1.1452 - accuracy: 0.5934\n",
      "Epoch 3/10\n",
      "50000/50000 [==============================] - 32s 639us/sample - loss: 0.9748 - accuracy: 0.6550\n",
      "Epoch 4/10\n",
      "50000/50000 [==============================] - 20s 392us/sample - loss: 0.8623 - accuracy: 0.6987\n",
      "Epoch 5/10\n",
      "50000/50000 [==============================] - 20s 397us/sample - loss: 0.7678 - accuracy: 0.7317\n",
      "Epoch 6/10\n",
      "50000/50000 [==============================] - 19s 386us/sample - loss: 0.6958 - accuracy: 0.7553\n",
      "Epoch 7/10\n",
      "50000/50000 [==============================] - 20s 393us/sample - loss: 0.6188 - accuracy: 0.7838\n",
      "Epoch 8/10\n",
      "50000/50000 [==============================] - 20s 404us/sample - loss: 0.5581 - accuracy: 0.8023\n",
      "Epoch 9/10\n",
      "50000/50000 [==============================] - 19s 388us/sample - loss: 0.4952 - accuracy: 0.8247\n",
      "Epoch 10/10\n",
      "50000/50000 [==============================] - 19s 388us/sample - loss: 0.4380 - accuracy: 0.8451\n"
     ]
    },
    {
     "data": {
      "text/plain": [
       "<keras.src.callbacks.History at 0x24145bb8490>"
      ]
     },
     "execution_count": 4,
     "metadata": {},
     "output_type": "execute_result"
    }
   ],
   "source": [
    "# Training our model to before to demonstrate mechanism\n",
    "model=create_model()\n",
    "\n",
    "model.fit(x=train_images_original,y=train_labels_original,epochs=10)"
   ]
  },
  {
   "cell_type": "code",
   "execution_count": 5,
   "metadata": {},
   "outputs": [
    {
     "name": "stderr",
     "output_type": "stream",
     "text": [
      "C:\\Users\\Darshan Mourya\\AppData\\Local\\Packages\\PythonSoftwareFoundation.Python.3.10_qbz5n2kfra8p0\\LocalCache\\local-packages\\Python310\\site-packages\\keras\\src\\engine\\training_v1.py:2335: UserWarning: `Model.state_updates` will be removed in a future version. This property should not be used in TensorFlow 2.0, as `updates` are applied automatically.\n",
      "  updates = self.state_updates\n"
     ]
    },
    {
     "name": "stdout",
     "output_type": "stream",
     "text": [
      "TEST METRICS\n",
      "Test loss : 1.13 vs Test Accuracy: 0.67\n"
     ]
    }
   ],
   "source": [
    "# Evaluating the performances before adversaries\n",
    "score = model.evaluate(x=test_images_original, y=test_labels_original)\n",
    "\n",
    "# Test loss and accuracy\n",
    "print(\"TEST METRICS\")\n",
    "print(f\"Test loss : {score[0]:.2f} \"\n",
    "      f\"vs Test Accuracy: {score[1]:.2f}\")\n"
   ]
  },
  {
   "cell_type": "code",
   "execution_count": 6,
   "metadata": {},
   "outputs": [],
   "source": [
    "from art.estimators.classification import KerasClassifier\n",
    "_classifier=KerasClassifier(\n",
    "    model=model,\n",
    "    clip_values=(min,max)\n",
    ")"
   ]
  },
  {
   "cell_type": "code",
   "execution_count": null,
   "metadata": {},
   "outputs": [],
   "source": [
    "# Creating an instance of the AdversarialPatch attack\n",
    "from art.attacks.evasion import AdversarialPatch\n",
    "Patch = AdversarialPatch(\n",
    "    classifier=_classifier ,\n",
    "    rotation_max=.5, \n",
    "    scale_min=2e-2,\n",
    "    scale_max=1e-2,\n",
    "    learning_rate=.05,\n",
    "    max_iter=250,\n",
    "    batch_size=16,\n",
    "    patch_shape=(32,32,3),\n",
    "    targeted=True,\n",
    "    verbose=True\n",
    ")\n",
    "\n",
    "# There is always trade of between inconspicousness and effectiveness while deciding values of scale_min, scale_max,rotation_max.."
   ]
  },
  {
   "cell_type": "code",
   "execution_count": null,
   "metadata": {},
   "outputs": [],
   "source": [
    "\n",
    "# Generate an adversarial patch\n",
    "_patch, patch_mask = Patch.generate(x=train_images_original[:100], y=train_labels_original[:100])\n",
    "\n",
    "# Apply the adversarial patch to new instances\n",
    "adversarial_instances = Patch.apply_patch(x=test_images_original[:100], scale=1.0, patch_external=_patch)"
   ]
  },
  {
   "cell_type": "code",
   "execution_count": null,
   "metadata": {},
   "outputs": [],
   "source": [
    "# Functions to Display created adversarial examples\n",
    "def create_figure_axes(\n",
    "    nrows, \n",
    "    ncols, \n",
    "    figsize\n",
    "    ):\n",
    "    # Creating a figure and axes\n",
    "    fig, axes = plt.subplots(\n",
    "        nrows=nrows, \n",
    "        ncols=ncols, \n",
    "        figsize=figsize\n",
    "        )\n",
    "\n",
    "    # Returning the figure and axes\n",
    "    return fig, axes\n",
    "\n",
    "# Function for plotting images\n",
    "def plot_images(\n",
    "    images,\n",
    "    labels,    \n",
    "    plot_label,\n",
    "    is_categorical,\n",
    "    nrows, \n",
    "    ncols,\n",
    "    figsize\n",
    "    ):    \n",
    "    # Creating a figure and axes\n",
    "    fig, axes = create_figure_axes(\n",
    "        nrows=nrows, \n",
    "        ncols=ncols, \n",
    "        figsize=figsize\n",
    "        )\n",
    "\n",
    "    # Defining a counting variable\n",
    "    counter = 0\n",
    "\n",
    "    # Iterating over our rows and cols,\n",
    "    # plotting poisoned test images\n",
    "    # along with their true targets\n",
    "    for i in range(nrows):\n",
    "        for j in range(ncols):\n",
    "            # Converting the current label to an integer \n",
    "            # if it is categorical\n",
    "            if is_categorical:\n",
    "                label = np.argmax(a=labels[counter])\n",
    "            else:\n",
    "                label = labels[counter]\n",
    "            \n",
    "            # Displaying the current image\n",
    "            # and setting axis title\n",
    "            axes[i, j].imshow(images[counter])\n",
    "            axes[i, j].set_title(label=f\"{plot_label}: {label}\")\n",
    "\n",
    "            # Disabling ticks\n",
    "            axes[i, j].set_xticks(ticks=[])\n",
    "            axes[i, j].set_yticks(ticks=[])\n",
    "\n",
    "            # Incrementing the counter\n",
    "            counter += 1"
   ]
  },
  {
   "cell_type": "code",
   "execution_count": null,
   "metadata": {},
   "outputs": [
    {
     "name": "stdout",
     "output_type": "stream",
     "text": [
      "TEST METRICS ON CLEAN IMAGES\n",
      "Test loss : 1.10 vs Test Accuracy: 0.72\n",
      "TEST METRICS ON ADVERSARIAL IMAGES\n",
      "Test loss : 4.16 vs Test Accuracy: 0.08\n"
     ]
    }
   ],
   "source": [
    "# Evaluating the performances before adversaries\n",
    "score1 = model.evaluate(x=test_images_original[100:200], y=test_labels_original[100:200])\n",
    "score2 = model.evaluate(x=adversarial_instances, y=test_labels_original[:100])\n",
    "\n",
    "# Test losses and accuracy\n",
    "print(\"TEST METRICS ON CLEAN IMAGES\")\n",
    "print(f\"Test loss : {score1[0]:.2f} \"\n",
    "      f\"vs Test Accuracy: {score1[1]:.2f}\")\n",
    "\n",
    "print(\"TEST METRICS ON ADVERSARIAL IMAGES\")\n",
    "print(f\"Test loss : {score2[0]:.2f} \"\n",
    "      f\"vs Test Accuracy: {score2[1]:.2f}\")\n"
   ]
  },
  {
   "cell_type": "code",
   "execution_count": null,
   "metadata": {},
   "outputs": [
    {
     "data": {
      "image/png": "[encoded data removed]",
      "text/plain": [
       "<Figure size 500x500 with 4 Axes>"
      ]
     },
     "metadata": {},
     "output_type": "display_data"
    }
   ],
   "source": [
    "# PLotting Clean images \n",
    "plot_images(\n",
    "    images=test_images_original[100:200], \n",
    "    labels=test_labels_original[100:200],\n",
    "    plot_label=\"Label\",\n",
    "    is_categorical=True,\n",
    "    nrows=2,\n",
    "    ncols=2,\n",
    "    figsize=(5, 5))"
   ]
  },
  {
   "cell_type": "code",
   "execution_count": null,
   "metadata": {},
   "outputs": [
    {
     "data": {
      "image/png": "[encoded data removed]",
      "text/plain": [
       "<Figure size 500x500 with 4 Axes>"
      ]
     },
     "metadata": {},
     "output_type": "display_data"
    }
   ],
   "source": [
    "# PLotting Adversarial images \n",
    "plot_images(\n",
    "    images=adversarial_instances, \n",
    "    labels=test_labels_original[:100],\n",
    "    plot_label=\"Label\",\n",
    "    is_categorical=True,\n",
    "    nrows=2,\n",
    "    ncols=2,\n",
    "    figsize=(5, 5))"
   ]
  },
  {
   "cell_type": "markdown",
   "metadata": {},
   "source": [
    "The images indicate these patches created are too inconspicious when used on MNIST and CIFER10"
   ]
  },
  {
   "cell_type": "markdown",
   "metadata": {},
   "source": []
  },
  {
   "cell_type": "code",
   "execution_count": null,
   "metadata": {},
   "outputs": [],
   "source": []
  }
 ],
 "metadata": {
  "kernelspec": {
   "display_name": "Python 3",
   "language": "python",
   "name": "python3"
  },
  "language_info": {
   "codemirror_mode": {
    "name": "ipython",
    "version": 3
   },
   "file_extension": ".py",
   "mimetype": "text/x-python",
   "name": "python",
   "nbconvert_exporter": "python",
   "pygments_lexer": "ipython3",
   "version": "3.10.11"
  }
 },
 "nbformat": 4,
 "nbformat_minor": 2
}
