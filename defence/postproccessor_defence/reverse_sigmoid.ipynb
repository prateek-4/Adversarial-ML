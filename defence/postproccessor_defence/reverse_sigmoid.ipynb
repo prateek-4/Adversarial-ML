{
 "cells": [
  {
   "cell_type": "code",
   "execution_count": 2,
   "metadata": {},
   "outputs": [],
   "source": [
    "# Importing dependencies\n",
    "import tensorflow as tf\n",
    "from tensorflow.keras.layers import Conv2D, MaxPool2D, Dense, Flatten\n",
    "from art.estimators.classification import KerasClassifier\n",
    "from art.utils import load_dataset, to_categorical\n",
    "import numpy as np\n",
    "import matplotlib\n",
    "import matplotlib.pyplot as plt\n",
    "import pprint\n",
    "import json\n",
    "\n",
    "# Disabling eager execution from TF 2\n",
    "tf.compat.v1.disable_eager_execution()\n",
    "\n",
    "# Increasing Matplotlib font size\n",
    "matplotlib.rcParams.update({\"font.size\": 14})"
   ]
  },
  {
   "cell_type": "code",
   "execution_count": 3,
   "metadata": {},
   "outputs": [],
   "source": [
    "# Loading data\n",
    "(train_images_original, train_labels_original), (test_images_original, test_labels_original), min, max = load_dataset(name=\"mnist\")"
   ]
  },
  {
   "cell_type": "code",
   "execution_count": 4,
   "metadata": {},
   "outputs": [],
   "source": [
    "# Function for creating a figure and axes\n",
    "def create_figure_axes(\n",
    "    nrows, \n",
    "    ncols, \n",
    "    figsize\n",
    "    ):\n",
    "    # Creating a figure and axes\n",
    "    fig, axes = plt.subplots(\n",
    "        nrows=nrows, \n",
    "        ncols=ncols, \n",
    "        figsize=figsize\n",
    "        )\n",
    "\n",
    "    # Returning the figure and axes\n",
    "    return fig, axes"
   ]
  },
  {
   "cell_type": "code",
   "execution_count": 5,
   "metadata": {},
   "outputs": [],
   "source": [
    "# Function for plotting images\n",
    "def plot_images(\n",
    "    images,\n",
    "    labels,    \n",
    "    plot_label,\n",
    "    is_categorical,\n",
    "    nrows, \n",
    "    ncols,\n",
    "    figsize\n",
    "    ):    \n",
    "    # Creating a figure and axes\n",
    "    fig, axes = create_figure_axes(\n",
    "        nrows=nrows, \n",
    "        ncols=ncols, \n",
    "        figsize=figsize\n",
    "        )\n",
    "\n",
    "    # Defining a counting variable\n",
    "    counter = 0\n",
    "\n",
    "    # Iterating over our rows and cols,\n",
    "    # plotting poisoned test images\n",
    "    # along with their true targets\n",
    "    for i in range(nrows):\n",
    "        for j in range(ncols):\n",
    "            # Converting the current label to an integer \n",
    "            # if it is categorical\n",
    "            if is_categorical:\n",
    "                label = np.argmax(a=labels[counter])\n",
    "            else:\n",
    "                label = labels[counter]\n",
    "            \n",
    "            # Displaying the current image\n",
    "            # and setting axis title\n",
    "            axes[i, j].imshow(images[counter])\n",
    "            axes[i, j].set_title(label=f\"{plot_label}: {label}\")\n",
    "\n",
    "            # Disabling ticks\n",
    "            axes[i, j].set_xticks(ticks=[])\n",
    "            axes[i, j].set_yticks(ticks=[])\n",
    "\n",
    "            # Incrementing the counter\n",
    "            counter += 1"
   ]
  },
  {
   "cell_type": "code",
   "execution_count": 6,
   "metadata": {},
   "outputs": [],
   "source": [
    "# Function for creating model\n",
    "def create_model():\n",
    "    # Defining the model\n",
    "    model = tf.keras.models.Sequential([\n",
    "        Conv2D(filters=32, kernel_size=3, activation=\"relu\", input_shape=(28, 28, 1)),\n",
    "        Conv2D(filters=32, kernel_size=3, activation=\"relu\", strides=2),\n",
    "        Conv2D(filters=64, kernel_size=3, activation=\"relu\"),\n",
    "        Conv2D(filters=64, kernel_size=3, activation=\"relu\", strides=2),\n",
    "        Flatten(),\n",
    "        Dense(units=100, activation=\"relu\"),\n",
    "        Dense(units=10, activation=\"softmax\")\n",
    "    ])\n",
    "\n",
    "    # Compiling the model\n",
    "    model.compile(\n",
    "        optimizer=\"adam\",\n",
    "        loss=\"categorical_crossentropy\",\n",
    "        metrics=[\"accuracy\"]\n",
    "        )   \n",
    "\n",
    "    # Returning the model\n",
    "    return model"
   ]
  },
  {
   "cell_type": "markdown",
   "metadata": {},
   "source": [
    "# The Postprocessor Defense in ART"
   ]
  },
  {
   "cell_type": "markdown",
   "metadata": {},
   "source": [
    "## Training a victim model"
   ]
  },
  {
   "cell_type": "code",
   "execution_count": 7,
   "metadata": {},
   "outputs": [],
   "source": [
    "# Importing dependencies\n",
    "from art.defences.postprocessor import ReverseSigmoid\n",
    "from art.attacks.extraction import CopycatCNN\n",
    "\n",
    "# Setting aside a subset of the source dataset for the original model\n",
    "train_images_victim = train_images_original[:50000]\n",
    "train_labels_victim = train_labels_original[:50000]\n",
    "\n",
    "# Using the rest of the source dataset for the stolen model\n",
    "train_images_stolen = train_images_original[50000:]\n",
    "train_labels_stolen = train_labels_original[50000:]"
   ]
  },
  {
   "cell_type": "code",
   "execution_count": 8,
   "metadata": {},
   "outputs": [
    {
     "name": "stdout",
     "output_type": "stream",
     "text": [
      "WARNING:tensorflow:From C:\\Users\\Darshan Mourya\\AppData\\Local\\Packages\\PythonSoftwareFoundation.Python.3.10_qbz5n2kfra8p0\\LocalCache\\local-packages\\Python310\\site-packages\\keras\\src\\utils\\version_utils.py:76: The name tf.executing_eagerly_outside_functions is deprecated. Please use tf.compat.v1.executing_eagerly_outside_functions instead.\n",
      "\n",
      "WARNING:tensorflow:From C:\\Users\\Darshan Mourya\\AppData\\Local\\Packages\\PythonSoftwareFoundation.Python.3.10_qbz5n2kfra8p0\\LocalCache\\local-packages\\Python310\\site-packages\\keras\\src\\optimizers\\__init__.py:309: The name tf.train.Optimizer is deprecated. Please use tf.compat.v1.train.Optimizer instead.\n",
      "\n",
      "WARNING:tensorflow:From C:\\Users\\Darshan Mourya\\AppData\\Local\\Packages\\PythonSoftwareFoundation.Python.3.10_qbz5n2kfra8p0\\LocalCache\\local-packages\\Python310\\site-packages\\keras\\src\\engine\\training_v1.py:635: The name tf.data.Iterator is deprecated. Please use tf.compat.v1.data.Iterator instead.\n",
      "\n",
      "WARNING:tensorflow:From C:\\Users\\Darshan Mourya\\AppData\\Local\\Packages\\PythonSoftwareFoundation.Python.3.10_qbz5n2kfra8p0\\LocalCache\\local-packages\\Python310\\site-packages\\keras\\src\\engine\\training_utils_v1.py:50: The name tf.ragged.RaggedTensorValue is deprecated. Please use tf.compat.v1.ragged.RaggedTensorValue instead.\n",
      "\n",
      "Train on 50000 samples\n",
      "WARNING:tensorflow:OMP_NUM_THREADS is no longer used by the default Keras config. To configure the number of threads, use tf.config.threading APIs.\n",
      "Epoch 1/10\n",
      "50000/50000 [==============================] - 10s 191us/sample - loss: 0.1578 - accuracy: 0.9514\n",
      "Epoch 2/10\n",
      "50000/50000 [==============================] - 9s 186us/sample - loss: 0.0485 - accuracy: 0.9849\n",
      "Epoch 3/10\n",
      "50000/50000 [==============================] - 12s 233us/sample - loss: 0.0328 - accuracy: 0.9891\n",
      "Epoch 4/10\n",
      "50000/50000 [==============================] - 12s 243us/sample - loss: 0.0256 - accuracy: 0.9921\n",
      "Epoch 5/10\n",
      "50000/50000 [==============================] - 15s 300us/sample - loss: 0.0205 - accuracy: 0.9933\n",
      "Epoch 6/10\n",
      "50000/50000 [==============================] - 13s 263us/sample - loss: 0.0159 - accuracy: 0.9947\n",
      "Epoch 7/10\n",
      "50000/50000 [==============================] - 13s 250us/sample - loss: 0.0139 - accuracy: 0.9953\n",
      "Epoch 8/10\n",
      "50000/50000 [==============================] - 12s 250us/sample - loss: 0.0124 - accuracy: 0.9960\n",
      "Epoch 9/10\n",
      "50000/50000 [==============================] - 12s 249us/sample - loss: 0.0092 - accuracy: 0.9969\n",
      "Epoch 10/10\n",
      "50000/50000 [==============================] - 12s 250us/sample - loss: 0.0083 - accuracy: 0.9973\n"
     ]
    },
    {
     "data": {
      "text/plain": [
       "<keras.src.callbacks.History at 0x24c149d8a60>"
      ]
     },
     "execution_count": 8,
     "metadata": {},
     "output_type": "execute_result"
    }
   ],
   "source": [
    "# Creating and training a  classifier\n",
    "# with the original clean data\n",
    "model = create_model()\n",
    "model.fit(\n",
    "    x=train_images_victim, \n",
    "    y=train_labels_victim, \n",
    "    epochs=10\n",
    "    )"
   ]
  },
  {
   "cell_type": "markdown",
   "metadata": {},
   "source": [
    "## Setting up a postprocessing defense"
   ]
  },
  {
   "cell_type": "code",
   "execution_count": 9,
   "metadata": {},
   "outputs": [],
   "source": [
    "# Initializing the postprocessor\n",
    "postprocessor = ReverseSigmoid(\n",
    "    beta=1.0, \n",
    "    gamma=0.2\n",
    "    )\n",
    "\n",
    "# Creating an instance of an unprotected classifier\n",
    "unprotected_classifier = KerasClassifier(\n",
    "    model=model,\n",
    "    clip_values=(min, max))\n",
    "\n",
    "# Creating an instance of a protected classifier\n",
    "protected_classifier = KerasClassifier(\n",
    "    model=model,\n",
    "    clip_values=(min, max),\n",
    "    postprocessing_defences=postprocessor)"
   ]
  },
  {
   "cell_type": "code",
   "execution_count": 10,
   "metadata": {},
   "outputs": [
    {
     "name": "stdout",
     "output_type": "stream",
     "text": [
      "----- ONE-HOT PREDICTIONS ----- \n",
      " [[1.07008402e-12 9.51578624e-16 2.47780366e-13 1.71106225e-13\n",
      "  5.55216209e-23 1.53285382e-16 5.69792258e-21 1.00000000e+00\n",
      "  2.61101311e-14 1.68995217e-11]\n",
      " [1.78575407e-17 2.33336960e-14 1.00000000e+00 4.22915299e-22\n",
      "  3.98270880e-22 8.02720245e-23 7.73100727e-14 1.33994777e-20\n",
      "  2.77657803e-19 5.03682229e-23]\n",
      " [2.01314876e-09 9.99999404e-01 1.13180407e-08 3.51292918e-11\n",
      "  1.32012978e-08 7.38924726e-08 8.27779019e-08 2.03560305e-07\n",
      "  9.69549063e-08 6.31423136e-10]\n",
      " [9.99999881e-01 1.55771290e-14 1.08720899e-12 4.49662632e-13\n",
      "  4.22354048e-15 1.09025115e-12 1.10896806e-07 6.71568053e-12\n",
      "  1.11661956e-11 6.70608791e-10]\n",
      " [1.77657802e-13 2.59847482e-13 2.77364087e-11 7.40894822e-17\n",
      "  1.00000000e+00 5.62951954e-14 9.49856852e-14 5.90446789e-11\n",
      "  9.00090684e-14 4.69854307e-08]\n",
      " [4.28190261e-11 1.00000000e+00 6.09138795e-10 1.13870488e-13\n",
      "  4.76652551e-10 2.25525626e-10 5.60728353e-10 2.65629492e-08\n",
      "  4.80822981e-09 3.11373913e-11]\n",
      " [9.08826203e-15 2.87976143e-10 2.24921522e-11 1.51227104e-11\n",
      "  9.99361217e-01 4.99473707e-08 1.53952611e-15 8.13836493e-07\n",
      "  6.91210334e-06 6.30987168e-04]\n",
      " [8.73384753e-10 8.02055922e-11 3.15212318e-08 1.64703636e-07\n",
      "  1.17556027e-07 5.59935233e-06 1.99063335e-12 5.44458381e-08\n",
      "  2.64647127e-07 9.99993801e-01]\n",
      " [3.53323237e-09 1.01294298e-12 2.90055480e-12 5.93457141e-12\n",
      "  3.11338039e-11 9.58499789e-01 4.09134887e-02 9.95141144e-13\n",
      "  5.86499693e-04 1.74614371e-07]\n",
      " [6.14163329e-14 2.70623470e-18 6.65727133e-16 1.35839215e-10\n",
      "  5.58435744e-14 3.73797160e-10 4.55762559e-19 1.85731833e-10\n",
      "  9.68075412e-11 1.00000000e+00]] \n",
      "\n",
      "----- CLASS PREDICTIONS ----- \n",
      " [7 2 1 0 4 1 4 9 5 9]\n"
     ]
    },
    {
     "name": "stderr",
     "output_type": "stream",
     "text": [
      "C:\\Users\\Darshan Mourya\\AppData\\Local\\Packages\\PythonSoftwareFoundation.Python.3.10_qbz5n2kfra8p0\\LocalCache\\local-packages\\Python310\\site-packages\\keras\\src\\engine\\training_v1.py:2359: UserWarning: `Model.state_updates` will be removed in a future version. This property should not be used in TensorFlow 2.0, as `updates` are applied automatically.\n",
      "  updates=self.state_updates,\n"
     ]
    }
   ],
   "source": [
    "# Getting predictions for the unprotected model\n",
    "unprotected_predictions = unprotected_classifier.predict(x=test_images_original[:10])\n",
    "\n",
    "# Inspecting unprotected predictions\n",
    "print(\"----- ONE-HOT PREDICTIONS -----\", \"\\n\", unprotected_predictions, \"\\n\")\n",
    "print(\"----- CLASS PREDICTIONS -----\", \"\\n\", np.argmax(a=unprotected_predictions, axis=1))"
   ]
  },
  {
   "cell_type": "code",
   "execution_count": 11,
   "metadata": {},
   "outputs": [
    {
     "name": "stdout",
     "output_type": "stream",
     "text": [
      "----- ONE-HOT PREDICTIONS ----- \n",
      " [[0.09967895 0.09967895 0.09967895 0.09967895 0.09967895 0.09967895\n",
      "  0.09967895 0.10288944 0.09967895 0.09967895]\n",
      " [0.09967895 0.09967895 0.10288944 0.09967895 0.09967895 0.09967895\n",
      "  0.09967895 0.09967895 0.09967895 0.09967895]\n",
      " [0.10046241 0.11541052 0.09896221 0.10094202 0.09880291 0.09666636\n",
      "  0.09649987 0.09504955 0.09626213 0.10094202]\n",
      " [0.11067086 0.09934883 0.09934883 0.09934883 0.09934883 0.09934883\n",
      "  0.09453853 0.09934883 0.09934883 0.09934883]\n",
      " [0.10003908 0.10003908 0.10003908 0.10003908 0.10326117 0.10003908\n",
      "  0.10003908 0.10003908 0.10003908 0.09642611]\n",
      " [0.10008398 0.10330752 0.10008398 0.10008398 0.10008398 0.10008398\n",
      "  0.10008398 0.0971847  0.09891982 0.10008398]\n",
      " [0.10204741 0.10204741 0.10204741 0.10204741 0.14454855 0.09827902\n",
      "  0.10204741 0.09330684 0.08743167 0.06619677]\n",
      " [0.10171553 0.10171553 0.09855893 0.09614398 0.09669824 0.087823\n",
      "  0.10171553 0.09784122 0.09530432 0.12248361]\n",
      " [0.10265645 0.10359547 0.10359547 0.10359547 0.10359547 0.17247698\n",
      "  0.04140581 0.10359547 0.06766386 0.09781952]\n",
      " [0.09967896 0.09967896 0.09967896 0.09967896 0.09967896 0.09967896\n",
      "  0.09967896 0.09967896 0.09967896 0.10288945]] \n",
      "\n",
      "----- CLASS PREDICTIONS ----- \n",
      " [7 2 1 0 4 1 4 9 5 9]\n"
     ]
    },
    {
     "name": "stderr",
     "output_type": "stream",
     "text": [
      "C:\\Users\\Darshan Mourya\\AppData\\Local\\Packages\\PythonSoftwareFoundation.Python.3.10_qbz5n2kfra8p0\\LocalCache\\local-packages\\Python310\\site-packages\\art\\defences\\postprocessor\\reverse_sigmoid.py:75: RuntimeWarning: divide by zero encountered in log\n",
      "  perturbation_r = self.beta * (sigmoid(-self.gamma * np.log((1.0 - preds_clipped) / preds_clipped)) - 0.5)\n"
     ]
    }
   ],
   "source": [
    "# Getting predictions for the protected model\n",
    "protected_predictions = protected_classifier.predict(x=test_images_original[:10])\n",
    "\n",
    "# Inspecting protected predictions\n",
    "print(\"----- ONE-HOT PREDICTIONS -----\", \"\\n\", protected_predictions, \"\\n\")\n",
    "print(\"----- CLASS PREDICTIONS -----\", \"\\n\", np.argmax(a=protected_predictions, axis=1))"
   ]
  },
  {
   "cell_type": "code",
   "execution_count": 12,
   "metadata": {},
   "outputs": [
    {
     "name": "stdout",
     "output_type": "stream",
     "text": [
      "[0.99999994 0.99999994 1.         1.         0.99999994 0.99999994\n",
      " 0.9999999  0.9999999  0.99999994 1.        ]\n"
     ]
    }
   ],
   "source": [
    "# Making sure that the sum of probabilities of all classes is 1\n",
    "print(np.sum(a=protected_predictions, axis=1))"
   ]
  },
  {
   "cell_type": "markdown",
   "metadata": {},
   "source": [
    "## Building and training CopycatCNNs"
   ]
  },
  {
   "cell_type": "code",
   "execution_count": 13,
   "metadata": {},
   "outputs": [],
   "source": [
    "# Initializing the models that will be trained by the model extractor\n",
    "model_stolen_unprotected = KerasClassifier(model=create_model(), clip_values=(min, max))\n",
    "model_stolen_protected = KerasClassifier(model=create_model(), clip_values=(min, max))"
   ]
  },
  {
   "cell_type": "code",
   "execution_count": 14,
   "metadata": {},
   "outputs": [],
   "source": [
    "# Creating the \"neural net thief\" object\n",
    "# that will try to steal the unprotected classifier\n",
    "copycat_cnn_unprotected = CopycatCNN(\n",
    "    batch_size_fit=256,\n",
    "    batch_size_query=256,\n",
    "    nb_epochs=10,\n",
    "    nb_stolen=len(train_images_stolen),\n",
    "    classifier=unprotected_classifier\n",
    "    )\n",
    "\n",
    "# Creating the \"neural net thief\" object\n",
    "# that will try to steal the protected classifier\n",
    "copycat_cnn_protected = CopycatCNN(\n",
    "    batch_size_fit=256,\n",
    "    batch_size_query=256,\n",
    "    nb_epochs=10,\n",
    "    nb_stolen=len(train_images_stolen),\n",
    "    classifier=protected_classifier\n",
    "    )"
   ]
  },
  {
   "cell_type": "code",
   "execution_count": 15,
   "metadata": {},
   "outputs": [],
   "source": [
    "# Extracting the unprotected model\n",
    "classifier_stolen_unprotected = copycat_cnn_unprotected.extract(\n",
    "    x=train_images_stolen, \n",
    "    y=train_labels_stolen, \n",
    "    thieved_classifier=model_stolen_unprotected\n",
    "    )"
   ]
  },
  {
   "cell_type": "code",
   "execution_count": 16,
   "metadata": {},
   "outputs": [],
   "source": [
    "# Extracting the protected model\n",
    "classifier_stolen_protected = copycat_cnn_protected.extract(\n",
    "    x=train_images_stolen, \n",
    "    y=train_labels_stolen, \n",
    "    thieved_classifier=model_stolen_protected\n",
    "    )"
   ]
  },
  {
   "cell_type": "code",
   "execution_count": 17,
   "metadata": {},
   "outputs": [
    {
     "name": "stderr",
     "output_type": "stream",
     "text": [
      "C:\\Users\\Darshan Mourya\\AppData\\Local\\Packages\\PythonSoftwareFoundation.Python.3.10_qbz5n2kfra8p0\\LocalCache\\local-packages\\Python310\\site-packages\\keras\\src\\engine\\training_v1.py:2335: UserWarning: `Model.state_updates` will be removed in a future version. This property should not be used in TensorFlow 2.0, as `updates` are applied automatically.\n",
      "  updates = self.state_updates\n"
     ]
    },
    {
     "name": "stdout",
     "output_type": "stream",
     "text": [
      "------ TEST METRICS, ORIGINAL VS STOLEN MODELS ------\n",
      "\n",
      "\n",
      "------ TEST LOSS ------\n",
      "\n",
      "Original model: 0.04\n",
      "Stolen unprotected model: 0.10\n",
      "Stolen protected model: 0.11\n",
      "\n",
      "------ TEST ACCURACY ------\n",
      "\n",
      "Original model: 0.99\n",
      "Stolen unprotected model: 0.97\n",
      "Stolen protected model: 0.97\n",
      "\n"
     ]
    }
   ],
   "source": [
    "# Evaluating the performance of the victim model and the stolen models\n",
    "score_victim = unprotected_classifier._model.evaluate(x=test_images_original, y=test_labels_original)\n",
    "score_stolen_unprotected = classifier_stolen_unprotected._model.evaluate(x=test_images_original, y=test_labels_original)\n",
    "score_stolen_protected = classifier_stolen_protected._model.evaluate(x=test_images_original, y=test_labels_original)\n",
    "\n",
    "# Comparing test losses\n",
    "print(\"------ TEST METRICS, ORIGINAL VS STOLEN MODELS ------\\n\\n\")\n",
    "print(\"------ TEST LOSS ------\\n\")\n",
    "print(f\"Original model: {score_victim[0]:.2f}\\n\" \n",
    "      f\"Stolen unprotected model: {score_stolen_unprotected[0]:.2f}\\n\"\n",
    "      f\"Stolen protected model: {score_stolen_protected[0]:.2f}\\n\")\n",
    "\n",
    "# Comparing test accuracies\n",
    "print(\"------ TEST ACCURACY ------\\n\")\n",
    "print(f\"Original model: {score_victim[1]:.2f}\\n\" \n",
    "      f\"Stolen unprotected model: {score_stolen_unprotected[1]:.2f}\\n\"\n",
    "      f\"Stolen protected model: {score_stolen_protected[1]:.2f}\\n\")"
   ]
  },
  {
   "cell_type": "markdown",
   "metadata": {},
   "source": [
    "Hmmm... seems like it didnt worked we have to chnage a little bit"
   ]
  },
  {
   "cell_type": "markdown",
   "metadata": {},
   "source": [
    "## Building and training probabilistic CopycatCNNs"
   ]
  },
  {
   "cell_type": "code",
   "execution_count": 18,
   "metadata": {},
   "outputs": [],
   "source": [
    "# Creating the probabilistic \"neural net thief\" object\n",
    "# that will try to steal the unprotected classifier\n",
    "copycat_cnn_unprotected_probabilistic = CopycatCNN(\n",
    "    batch_size_fit=256,\n",
    "    batch_size_query=256,\n",
    "    nb_epochs=10,\n",
    "    nb_stolen=len(train_images_stolen),\n",
    "    use_probability=True,\n",
    "    classifier=unprotected_classifier    \n",
    "    )\n",
    "\n",
    "# Creating the probabilistic \"neural net thief\" object\n",
    "# that will try to steal the protected classifier\n",
    "copycat_cnn_protected_probabilistic = CopycatCNN(\n",
    "    batch_size_fit=256,\n",
    "    batch_size_query=256,\n",
    "    nb_epochs=10,\n",
    "    nb_stolen=len(train_images_stolen),\n",
    "    use_probability=True,\n",
    "    classifier=protected_classifier\n",
    "    )\n",
    "\n",
    "# Reinitializing the models that will be trained by the model extractor\n",
    "model_stolen_unprotected = KerasClassifier(model=create_model(), clip_values=(min, max))\n",
    "model_stolen_protected = KerasClassifier(model=create_model(), clip_values=(min, max))"
   ]
  },
  {
   "cell_type": "code",
   "execution_count": 19,
   "metadata": {},
   "outputs": [],
   "source": [
    "# Extracting the unprotected model\n",
    "classifier_stolen_unprotected_probabilistic = copycat_cnn_unprotected_probabilistic.extract(\n",
    "    x=train_images_stolen, \n",
    "    y=train_labels_stolen, \n",
    "    thieved_classifier=model_stolen_unprotected\n",
    "    )"
   ]
  },
  {
   "cell_type": "code",
   "execution_count": 20,
   "metadata": {},
   "outputs": [],
   "source": [
    "# Extracting the protected classifier\n",
    "classifier_stolen_protected_probabilistic = copycat_cnn_protected_probabilistic.extract(\n",
    "    x=train_images_stolen, \n",
    "    y=train_labels_stolen, \n",
    "    thieved_classifier=model_stolen_protected\n",
    "    )"
   ]
  },
  {
   "cell_type": "code",
   "execution_count": 54,
   "metadata": {},
   "outputs": [
    {
     "name": "stdout",
     "output_type": "stream",
     "text": [
      "------ TEST METRICS, ORIGINAL VS PROBABILISTIC STOLEN MODELS ------\n",
      "\n",
      "\n",
      "------ TEST LOSS ------\n",
      "\n",
      "Original model: 0.06\n",
      "Stolen unprotected model: 0.07\n",
      "Stolen protected model: 2.26\n",
      "\n",
      "------ TEST ACCURACY ------\n",
      "\n",
      "Original model: 0.99\n",
      "Stolen unprotected model: 0.98\n",
      "Stolen protected model: 0.62\n",
      "\n"
     ]
    }
   ],
   "source": [
    "# Evaluating the performance of the victim model and the stolen models\n",
    "score_stolen_unprotected_probabilistic = classifier_stolen_unprotected_probabilistic._model.evaluate(x=test_images_original, y=test_labels_original)\n",
    "score_stolen_protected_probabilistic = classifier_stolen_protected_probabilistic._model.evaluate(x=test_images_original, y=test_labels_original)\n",
    "\n",
    "# Comparing test losses\n",
    "print(\"------ TEST METRICS, ORIGINAL VS PROBABILISTIC STOLEN MODELS ------\\n\\n\")\n",
    "print(\"------ TEST LOSS ------\\n\")\n",
    "print(f\"Original model: {score_victim[0]:.2f}\\n\" \n",
    "      f\"Stolen unprotected model: {score_stolen_unprotected_probabilistic[0]:.2f}\\n\"\n",
    "      f\"Stolen protected model: {score_stolen_protected_probabilistic[0]:.2f}\\n\")\n",
    "\n",
    "# Comparing test accuracies\n",
    "print(\"------ TEST ACCURACY ------\\n\")\n",
    "print(f\"Original model: {score_victim[1]:.2f}\\n\" \n",
    "      f\"Stolen unprotected model: {score_stolen_unprotected_probabilistic[1]:.2f}\\n\"\n",
    "      f\"Stolen protected model: {score_stolen_protected_probabilistic[1]:.2f}\\n\")"
   ]
  }
 ],
 "metadata": {
  "interpreter": {
   "hash": "f70919de02cd95c592d326227477d23447c62ed3e27fe887d4c4050715a0d7b9"
  },
  "kernelspec": {
   "display_name": "Python 3.9.6 64-bit",
   "language": "python",
   "name": "python3"
  },
  "language_info": {
   "codemirror_mode": {
    "name": "ipython",
    "version": 3
   },
   "file_extension": ".py",
   "mimetype": "text/x-python",
   "name": "python",
   "nbconvert_exporter": "python",
   "pygments_lexer": "ipython3",
   "version": "3.10.11"
  },
  "orig_nbformat": 4
 },
 "nbformat": 4,
 "nbformat_minor": 2
}
