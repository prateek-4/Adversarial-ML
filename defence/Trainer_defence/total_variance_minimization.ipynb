{
 "cells": [
  {
   "cell_type": "code",
   "execution_count": 2,
   "metadata": {},
   "outputs": [],
   "source": [
    "# Importing dependencies\n",
    "import tensorflow as tf\n",
    "from tensorflow.keras.layers import Conv2D, MaxPool2D, Dense, Flatten\n",
    "from art.attacks.poisoning import PoisoningAttackBackdoor\n",
    "from art.attacks.poisoning.perturbations import add_pattern_bd\n",
    "from art.defences.detector.poison import ActivationDefence\n",
    "from art.estimators.classification import KerasClassifier\n",
    "from art.utils import load_dataset, to_categorical\n",
    "import numpy as np\n",
    "import matplotlib\n",
    "import matplotlib.pyplot as plt\n",
    "import pprint\n",
    "import json\n",
    "\n",
    "# Disabling eager execution from TF 2\n",
    "tf.compat.v1.disable_eager_execution()\n",
    "\n",
    "# Increasing Matplotlib font size\n",
    "matplotlib.rcParams.update({\"font.size\": 14})"
   ]
  },
  {
   "cell_type": "code",
   "execution_count": 3,
   "metadata": {},
   "outputs": [],
   "source": [
    "# Loading data\n",
    "(train_images_original, train_labels_original), (test_images_original, test_labels_original), min, max = load_dataset(name=\"mnist\")"
   ]
  },
  {
   "cell_type": "markdown",
   "metadata": {},
   "source": [
    "## Visualizing the data"
   ]
  },
  {
   "cell_type": "code",
   "execution_count": 5,
   "metadata": {},
   "outputs": [],
   "source": [
    "# Function for creating a figure and axes\n",
    "def create_figure_axes(\n",
    "    nrows, \n",
    "    ncols, \n",
    "    figsize\n",
    "    ):\n",
    "    # Creating a figure and axes\n",
    "    fig, axes = plt.subplots(\n",
    "        nrows=nrows, \n",
    "        ncols=ncols, \n",
    "        figsize=figsize\n",
    "        )\n",
    "\n",
    "    # Returning the figure and axes\n",
    "    return fig, axes"
   ]
  },
  {
   "cell_type": "code",
   "execution_count": 6,
   "metadata": {},
   "outputs": [],
   "source": [
    "# Function for plotting images\n",
    "def plot_images(\n",
    "    images,\n",
    "    labels,    \n",
    "    plot_label,\n",
    "    is_categorical,\n",
    "    nrows, \n",
    "    ncols,\n",
    "    figsize\n",
    "    ):    \n",
    "    # Creating a figure and axes\n",
    "    fig, axes = create_figure_axes(\n",
    "        nrows=nrows, \n",
    "        ncols=ncols, \n",
    "        figsize=figsize\n",
    "        )\n",
    "\n",
    "    # Defining a counting variable\n",
    "    counter = 0\n",
    "\n",
    "    # Iterating over our rows and cols,\n",
    "    # plotting poisoned test images\n",
    "    # along with their true targets\n",
    "    for i in range(nrows):\n",
    "        for j in range(ncols):\n",
    "            # Converting the current label to an integer \n",
    "            # if it is categorical\n",
    "            if is_categorical:\n",
    "                label = np.argmax(a=labels[counter])\n",
    "            else:\n",
    "                label = labels[counter]\n",
    "            \n",
    "            # Displaying the current image\n",
    "            # and setting axis title\n",
    "            axes[i, j].imshow(images[counter])\n",
    "            axes[i, j].set_title(label=f\"{plot_label}: {label}\")\n",
    "\n",
    "            # Disabling ticks\n",
    "            axes[i, j].set_xticks(ticks=[])\n",
    "            axes[i, j].set_yticks(ticks=[])\n",
    "\n",
    "            # Incrementing the counter\n",
    "            counter += 1"
   ]
  },
  {
   "cell_type": "code",
   "execution_count": 7,
   "metadata": {},
   "outputs": [],
   "source": [
    "# Function for creating model\n",
    "def create_model():\n",
    "    # Defining the model\n",
    "    model = tf.keras.models.Sequential([\n",
    "        Conv2D(filters=32, kernel_size=3, activation=\"relu\", input_shape=(28, 28, 1)),\n",
    "        Conv2D(filters=32, kernel_size=3, activation=\"relu\", strides=2),\n",
    "        Conv2D(filters=64, kernel_size=3, activation=\"relu\"),\n",
    "        Conv2D(filters=64, kernel_size=3, activation=\"relu\", strides=2),\n",
    "        Flatten(),\n",
    "        Dense(units=100, activation=\"relu\"),\n",
    "        Dense(units=10, activation=\"softmax\")\n",
    "    ])\n",
    "\n",
    "    # Compiling the model\n",
    "    model.compile(\n",
    "        optimizer=\"adam\",\n",
    "        loss=\"categorical_crossentropy\",\n",
    "        metrics=[\"accuracy\"]\n",
    "        )   \n",
    "\n",
    "    # Returning the model\n",
    "    return model"
   ]
  },
  {
   "cell_type": "markdown",
   "metadata": {},
   "source": [
    "# The Trainer Defense in ART"
   ]
  },
  {
   "cell_type": "markdown",
   "metadata": {},
   "source": [
    "## Training vulnerable and robust models"
   ]
  },
  {
   "cell_type": "code",
   "execution_count": 8,
   "metadata": {},
   "outputs": [
    {
     "name": "stdout",
     "output_type": "stream",
     "text": [
      "WARNING:tensorflow:From C:\\Users\\Darshan Mourya\\AppData\\Local\\Packages\\PythonSoftwareFoundation.Python.3.10_qbz5n2kfra8p0\\LocalCache\\local-packages\\Python310\\site-packages\\keras\\src\\utils\\version_utils.py:76: The name tf.executing_eagerly_outside_functions is deprecated. Please use tf.compat.v1.executing_eagerly_outside_functions instead.\n",
      "\n",
      "WARNING:tensorflow:From C:\\Users\\Darshan Mourya\\AppData\\Local\\Packages\\PythonSoftwareFoundation.Python.3.10_qbz5n2kfra8p0\\LocalCache\\local-packages\\Python310\\site-packages\\keras\\src\\optimizers\\__init__.py:309: The name tf.train.Optimizer is deprecated. Please use tf.compat.v1.train.Optimizer instead.\n",
      "\n"
     ]
    }
   ],
   "source": [
    "# Importing dependencies\n",
    "from art.defences.trainer import AdversarialTrainer\n",
    "from art.attacks.evasion import FastGradientMethod\n",
    "\n",
    "# Initializing a vulnerable classsifier\n",
    "vulnerable_classifier = KerasClassifier(\n",
    "    model=create_model(), \n",
    "    clip_values=(min, max)\n",
    "    )\n",
    "\n",
    "# Initializing a robust classifier\n",
    "robust_classifier = KerasClassifier(\n",
    "    model=create_model(), \n",
    "    clip_values=(min, max)\n",
    "    )"
   ]
  },
  {
   "cell_type": "code",
   "execution_count": 9,
   "metadata": {},
   "outputs": [
    {
     "name": "stdout",
     "output_type": "stream",
     "text": [
      "WARNING:tensorflow:From C:\\Users\\Darshan Mourya\\AppData\\Local\\Packages\\PythonSoftwareFoundation.Python.3.10_qbz5n2kfra8p0\\LocalCache\\local-packages\\Python310\\site-packages\\keras\\src\\engine\\training_v1.py:635: The name tf.data.Iterator is deprecated. Please use tf.compat.v1.data.Iterator instead.\n",
      "\n",
      "WARNING:tensorflow:From C:\\Users\\Darshan Mourya\\AppData\\Local\\Packages\\PythonSoftwareFoundation.Python.3.10_qbz5n2kfra8p0\\LocalCache\\local-packages\\Python310\\site-packages\\keras\\src\\engine\\training_utils_v1.py:50: The name tf.ragged.RaggedTensorValue is deprecated. Please use tf.compat.v1.ragged.RaggedTensorValue instead.\n",
      "\n",
      "WARNING:tensorflow:OMP_NUM_THREADS is no longer used by the default Keras config. To configure the number of threads, use tf.config.threading APIs.\n"
     ]
    }
   ],
   "source": [
    "# Training the vulnerable classifier\n",
    "vulnerable_classifier.fit(\n",
    "    x=train_images_original[:10000], \n",
    "    y=train_labels_original[:10000], \n",
    "    nb_epochs=10\n",
    "    )"
   ]
  },
  {
   "cell_type": "code",
   "execution_count": 10,
   "metadata": {},
   "outputs": [],
   "source": [
    "# Initializing a Fast Gradient Method attack\n",
    "attack_fgm = FastGradientMethod(\n",
    "    estimator=vulnerable_classifier, \n",
    "    eps=0.15\n",
    "    )"
   ]
  },
  {
   "cell_type": "code",
   "execution_count": 11,
   "metadata": {},
   "outputs": [],
   "source": [
    "# Initializing an adversarial trainer to train\n",
    "# a robust model\n",
    "trainer = AdversarialTrainer(\n",
    "    classifier=robust_classifier, \n",
    "    attacks=attack_fgm, \n",
    "    ratio=0.5\n",
    "    )"
   ]
  },
  {
   "cell_type": "code",
   "execution_count": 12,
   "metadata": {},
   "outputs": [
    {
     "data": {
      "application/vnd.jupyter.widget-view+json": {
       "model_id": "e6ccb9631bad424898fb20ebfc9ff409",
       "version_major": 2,
       "version_minor": 0
      },
      "text/plain": [
       "Precompute adv samples:   0%|          | 0/1 [00:00<?, ?it/s]"
      ]
     },
     "metadata": {},
     "output_type": "display_data"
    },
    {
     "data": {
      "application/vnd.jupyter.widget-view+json": {
       "model_id": "466da787e9d84be0adc18b94ab29a9c5",
       "version_major": 2,
       "version_minor": 0
      },
      "text/plain": [
       "Adversarial training epochs:   0%|          | 0/10 [00:00<?, ?it/s]"
      ]
     },
     "metadata": {},
     "output_type": "display_data"
    }
   ],
   "source": [
    "# Training the robust classifier\n",
    "trainer.fit(\n",
    "    x=train_images_original[:10000], \n",
    "    y=train_labels_original[:10000],\n",
    "    nb_epochs=10\n",
    "    )"
   ]
  },
  {
   "cell_type": "markdown",
   "metadata": {},
   "source": [
    "## Evaluating the effectiveness of the trainer"
   ]
  },
  {
   "cell_type": "code",
   "execution_count": 13,
   "metadata": {},
   "outputs": [
    {
     "name": "stderr",
     "output_type": "stream",
     "text": [
      "C:\\Users\\Darshan Mourya\\AppData\\Local\\Packages\\PythonSoftwareFoundation.Python.3.10_qbz5n2kfra8p0\\LocalCache\\local-packages\\Python310\\site-packages\\keras\\src\\engine\\training_v1.py:2359: UserWarning: `Model.state_updates` will be removed in a future version. This property should not be used in TensorFlow 2.0, as `updates` are applied automatically.\n",
      "  updates=self.state_updates,\n"
     ]
    }
   ],
   "source": [
    "# Generating adversarial samples\n",
    "test_images_fgm = attack_fgm.generate(x=test_images_original)"
   ]
  },
  {
   "cell_type": "code",
   "execution_count": 14,
   "metadata": {},
   "outputs": [
    {
     "name": "stderr",
     "output_type": "stream",
     "text": [
      "C:\\Users\\Darshan Mourya\\AppData\\Local\\Packages\\PythonSoftwareFoundation.Python.3.10_qbz5n2kfra8p0\\LocalCache\\local-packages\\Python310\\site-packages\\keras\\src\\engine\\training_v1.py:2335: UserWarning: `Model.state_updates` will be removed in a future version. This property should not be used in TensorFlow 2.0, as `updates` are applied automatically.\n",
      "  updates = self.state_updates\n"
     ]
    },
    {
     "name": "stdout",
     "output_type": "stream",
     "text": [
      "------ TEST METRICS OF VULNERABLE MODEL ------\n",
      "Clean test loss: 0.10 vs FGM test loss: 2.23\n",
      "Clean test accuracy: 0.98 vs FGM test accuracy: 0.52\n"
     ]
    }
   ],
   "source": [
    "# Evaluating the performance of the vulnerable classier on clean and adversarial images\n",
    "score_clean = vulnerable_classifier._model.evaluate(x=test_images_original, y=test_labels_original)\n",
    "score_fgm = vulnerable_classifier._model.evaluate(x=test_images_fgm, y=test_labels_original)\n",
    "\n",
    "# Comparing test losses\n",
    "print(\"------ TEST METRICS OF VULNERABLE MODEL ------\")\n",
    "print(f\"Clean test loss: {score_clean[0]:.2f} \" \n",
    "      f\"vs FGM test loss: {score_fgm[0]:.2f}\")\n",
    "\n",
    "# Comparing test accuracies\n",
    "print(f\"Clean test accuracy: {score_clean[1]:.2f} \" \n",
    "      f\"vs FGM test accuracy: {score_fgm[1]:.2f}\")"
   ]
  },
  {
   "cell_type": "code",
   "execution_count": 15,
   "metadata": {},
   "outputs": [
    {
     "name": "stdout",
     "output_type": "stream",
     "text": [
      "------ TEST METRICS OF ROBUST VS VULNERABLE MODEL ON ADVERSARIAL SAMPLES ------\n",
      "Robust model test loss: 0.13 vs model vulnerable test loss: 2.23\n",
      "Robust model test accuracy: 0.97 vs model vulnerable test accuracy: 0.52\n"
     ]
    }
   ],
   "source": [
    "# Evaluating the performance of the robust classifier on adversarial images\n",
    "score_robust_fgm = robust_classifier._model.evaluate(x=test_images_fgm, y=test_labels_original)\n",
    "\n",
    "# Comparing test losses\n",
    "print(\"------ TEST METRICS OF ROBUST VS VULNERABLE MODEL ON ADVERSARIAL SAMPLES ------\")\n",
    "print(f\"Robust model test loss: {score_robust_fgm[0]:.2f} \" \n",
    "      f\"vs model vulnerable test loss: {score_fgm[0]:.2f}\")\n",
    "\n",
    "# Comparing test accuracies\n",
    "print(f\"Robust model test accuracy: {score_robust_fgm[1]:.2f} \" \n",
    "      f\"vs model vulnerable test accuracy: {score_fgm[1]:.2f}\")"
   ]
  },
  {
   "cell_type": "code",
   "execution_count": 16,
   "metadata": {},
   "outputs": [
    {
     "data": {
      "image/png": "[encoded data removed]",
      "text/plain": [
       "<Figure size 2500x1000 with 10 Axes>"
      ]
     },
     "metadata": {},
     "output_type": "display_data"
    }
   ],
   "source": [
    "# Setting the number of rows and columns for the plot\n",
    "nrows=2\n",
    "ncols=5\n",
    "\n",
    "# Creating a plot figure and axes for samples\n",
    "fig, axes = create_figure_axes(\n",
    "    nrows=nrows, \n",
    "    ncols=ncols, \n",
    "    figsize=(25, 10)\n",
    "    )\n",
    "\n",
    "# Getting predictions for adversarial samples\n",
    "victim_predictions = vulnerable_classifier.predict(x=test_images_fgm)\n",
    "robust_predictions = robust_classifier.predict(x=test_images_fgm)\n",
    "\n",
    "# Defining a counting variable\n",
    "counter = 0\n",
    "\n",
    "# Iterating over rows and cols,\n",
    "# plotting adversarial images\n",
    "# along with their predictions\n",
    "for i in range(nrows):\n",
    "    for j in range(ncols):\n",
    "        # Plotting the current image\n",
    "        axes[i, j].imshow(test_images_fgm[counter])\n",
    "\n",
    "        # Setting axis title\n",
    "        axes[i, j].set_title(label=f\"Vulnerable model prediction: {np.argmax(victim_predictions[counter])}\\n\"\n",
    "                                   f\"Robust model prediction: {np.argmax(robust_predictions[counter])}\")\n",
    "        \n",
    "        # Disabling axis ticks\n",
    "        axes[i, j].set_xticks(ticks=[])\n",
    "        axes[i, j].set_yticks(ticks=[])\n",
    "\n",
    "        # Incrementing the counter\n",
    "        counter += 1"
   ]
  },
  {
   "cell_type": "code",
   "execution_count": null,
   "metadata": {},
   "outputs": [],
   "source": []
  }
 ],
 "metadata": {
  "interpreter": {
   "hash": "f70919de02cd95c592d326227477d23447c62ed3e27fe887d4c4050715a0d7b9"
  },
  "kernelspec": {
   "display_name": "Python 3.9.6 64-bit",
   "language": "python",
   "name": "python3"
  },
  "language_info": {
   "codemirror_mode": {
    "name": "ipython",
    "version": 3
   },
   "file_extension": ".py",
   "mimetype": "text/x-python",
   "name": "python",
   "nbconvert_exporter": "python",
   "pygments_lexer": "ipython3",
   "version": "3.10.11"
  },
  "orig_nbformat": 4
 },
 "nbformat": 4,
 "nbformat_minor": 2
}
