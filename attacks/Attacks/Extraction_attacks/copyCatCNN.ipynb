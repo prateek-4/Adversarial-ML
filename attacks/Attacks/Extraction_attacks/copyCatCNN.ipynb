{
 "cells": [
  {
   "cell_type": "code",
   "execution_count": 1,
   "metadata": {},
   "outputs": [
    {
     "name": "stdout",
     "output_type": "stream",
     "text": [
      "WARNING:tensorflow:From C:\\Users\\Darshan Mourya\\AppData\\Local\\Packages\\PythonSoftwareFoundation.Python.3.10_qbz5n2kfra8p0\\LocalCache\\local-packages\\Python310\\site-packages\\keras\\src\\losses.py:2976: The name tf.losses.sparse_softmax_cross_entropy is deprecated. Please use tf.compat.v1.losses.sparse_softmax_cross_entropy instead.\n",
      "\n",
      "WARNING:tensorflow:From C:\\Users\\Darshan Mourya\\AppData\\Local\\Temp\\ipykernel_27460\\3083128125.py:3: The name tf.disable_eager_execution is deprecated. Please use tf.compat.v1.disable_eager_execution instead.\n",
      "\n"
     ]
    }
   ],
   "source": [
    "# Importing dependencies\n",
    "import tensorflow as tf\n",
    "tf.compat.v1.disable_eager_execution()\n",
    "from tensorflow.keras.layers import Conv2D, MaxPool2D, Dense, Flatten\n",
    "from art.utils import load_dataset, to_categorical , preprocess\n",
    "import numpy as np\n",
    "import matplotlib\n",
    "import matplotlib.pyplot as plt\n"
   ]
  },
  {
   "cell_type": "code",
   "execution_count": 2,
   "metadata": {},
   "outputs": [],
   "source": [
    "# Loading the dataset\n",
    "(train_images_original, train_labels_original), (test_images_original, test_labels_original), min, max = load_dataset(name=\"mnist\")\n"
   ]
  },
  {
   "cell_type": "code",
   "execution_count": 3,
   "metadata": {},
   "outputs": [],
   "source": [
    "# Function for creating model\n",
    "# For the next of the illustrations we will use CNN model\n",
    "\n",
    "def create_model():\n",
    "    # Defining the model\n",
    "    model = tf.keras.models.Sequential([\n",
    "        Conv2D(filters=32, kernel_size=3, activation=\"relu\", input_shape=(28, 28, 1)),\n",
    "        Conv2D(filters=32, kernel_size=3, activation=\"relu\", strides=2),\n",
    "        Conv2D(filters=64, kernel_size=3, activation=\"relu\"),\n",
    "        Conv2D(filters=64, kernel_size=3, activation=\"relu\", strides=2),\n",
    "        Flatten(),\n",
    "        Dense(units=100, activation=\"relu\"),\n",
    "        Dense(units=10, activation=\"softmax\")\n",
    "    ])\n",
    "\n",
    "    model.compile(\n",
    "        optimizer=\"adam\",\n",
    "        loss=\"categorical_crossentropy\",\n",
    "        metrics=[\"accuracy\"]\n",
    "    )\n",
    "\n",
    "    return model\n"
   ]
  },
  {
   "cell_type": "code",
   "execution_count": 4,
   "metadata": {},
   "outputs": [],
   "source": [
    "\n",
    "# Setting aside a subset of the source dataset for the original model\n",
    "original_images = train_images_original[:50000]\n",
    "original_images_labels = train_labels_original[:50000]\n",
    "\n",
    "# Using the rest of the source dataset for the stolen model\n",
    "train_images_stolen = train_images_original[50000:]\n",
    "train_labels_stolen = train_labels_original[50000:]"
   ]
  },
  {
   "cell_type": "code",
   "execution_count": 5,
   "metadata": {},
   "outputs": [
    {
     "name": "stdout",
     "output_type": "stream",
     "text": [
      "WARNING:tensorflow:From C:\\Users\\Darshan Mourya\\AppData\\Local\\Packages\\PythonSoftwareFoundation.Python.3.10_qbz5n2kfra8p0\\LocalCache\\local-packages\\Python310\\site-packages\\keras\\src\\utils\\version_utils.py:76: The name tf.executing_eagerly_outside_functions is deprecated. Please use tf.compat.v1.executing_eagerly_outside_functions instead.\n",
      "\n",
      "WARNING:tensorflow:From C:\\Users\\Darshan Mourya\\AppData\\Local\\Packages\\PythonSoftwareFoundation.Python.3.10_qbz5n2kfra8p0\\LocalCache\\local-packages\\Python310\\site-packages\\keras\\src\\optimizers\\__init__.py:309: The name tf.train.Optimizer is deprecated. Please use tf.compat.v1.train.Optimizer instead.\n",
      "\n",
      "WARNING:tensorflow:From C:\\Users\\Darshan Mourya\\AppData\\Local\\Packages\\PythonSoftwareFoundation.Python.3.10_qbz5n2kfra8p0\\LocalCache\\local-packages\\Python310\\site-packages\\keras\\src\\engine\\training_v1.py:635: The name tf.data.Iterator is deprecated. Please use tf.compat.v1.data.Iterator instead.\n",
      "\n",
      "WARNING:tensorflow:From C:\\Users\\Darshan Mourya\\AppData\\Local\\Packages\\PythonSoftwareFoundation.Python.3.10_qbz5n2kfra8p0\\LocalCache\\local-packages\\Python310\\site-packages\\keras\\src\\engine\\training_utils_v1.py:50: The name tf.ragged.RaggedTensorValue is deprecated. Please use tf.compat.v1.ragged.RaggedTensorValue instead.\n",
      "\n",
      "Train on 50000 samples\n",
      "WARNING:tensorflow:OMP_NUM_THREADS is no longer used by the default Keras config. To configure the number of threads, use tf.config.threading APIs.\n",
      "Epoch 1/10\n",
      "50000/50000 [==============================] - 8s 160us/sample - loss: 0.3387 - accuracy: 0.8952\n",
      "Epoch 2/10\n",
      "50000/50000 [==============================] - 7s 146us/sample - loss: 0.0784 - accuracy: 0.9760\n",
      "Epoch 3/10\n",
      "50000/50000 [==============================] - 7s 146us/sample - loss: 0.0526 - accuracy: 0.9835\n",
      "Epoch 4/10\n",
      "50000/50000 [==============================] - 7s 144us/sample - loss: 0.0394 - accuracy: 0.9877\n",
      "Epoch 5/10\n",
      "50000/50000 [==============================] - 7s 149us/sample - loss: 0.0301 - accuracy: 0.9906\n",
      "Epoch 6/10\n",
      "50000/50000 [==============================] - 7s 146us/sample - loss: 0.0245 - accuracy: 0.9921\n",
      "Epoch 7/10\n",
      "50000/50000 [==============================] - 7s 148us/sample - loss: 0.0200 - accuracy: 0.9939\n",
      "Epoch 8/10\n",
      "50000/50000 [==============================] - 8s 151us/sample - loss: 0.0152 - accuracy: 0.9953\n",
      "Epoch 9/10\n",
      "50000/50000 [==============================] - 7s 148us/sample - loss: 0.0132 - accuracy: 0.9957\n",
      "Epoch 10/10\n",
      "50000/50000 [==============================] - 8s 153us/sample - loss: 0.0114 - accuracy: 0.9959\n"
     ]
    },
    {
     "data": {
      "text/plain": [
       "<keras.src.callbacks.History at 0x243ff7abd60>"
      ]
     },
     "execution_count": 5,
     "metadata": {},
     "output_type": "execute_result"
    }
   ],
   "source": [
    "# Training the original model on its training subset\n",
    "model_original = create_model()\n",
    "model_original.fit(\n",
    "    x=original_images,\n",
    "    y=original_images_labels,\n",
    "    epochs=10,\n",
    "    batch_size=256\n",
    ")"
   ]
  },
  {
   "cell_type": "code",
   "execution_count": 6,
   "metadata": {},
   "outputs": [],
   "source": [
    "from art.estimators.classification import KerasClassifier\n",
    "\n",
    "# Wrapping the model in the ART KerasClassifier class\n",
    "classifier_original = KerasClassifier(\n",
    "    model=model_original,\n",
    "    clip_values=(min, max))"
   ]
  },
  {
   "cell_type": "code",
   "execution_count": 7,
   "metadata": {},
   "outputs": [],
   "source": [
    "# Creating a reference model for theft\n",
    "model_stolen = KerasClassifier(\n",
    "    model=create_model(), \n",
    "    clip_values=(min, max)\n",
    "    )"
   ]
  },
  {
   "cell_type": "code",
   "execution_count": 8,
   "metadata": {},
   "outputs": [],
   "source": [
    "from art.attacks.extraction import CopycatCNN\n",
    "# Creating the \"neural net thief\" object\n",
    "# that will steal the original classifier\n",
    "copycat = CopycatCNN(\n",
    "    batch_size_fit=256,\n",
    "    batch_size_query=256,\n",
    "    nb_epochs=20,\n",
    "    nb_stolen=len(train_images_stolen),\n",
    "    classifier=classifier_original\n",
    "    )\n"
   ]
  },
  {
   "cell_type": "code",
   "execution_count": 9,
   "metadata": {},
   "outputs": [
    {
     "name": "stderr",
     "output_type": "stream",
     "text": [
      "C:\\Users\\Darshan Mourya\\AppData\\Local\\Packages\\PythonSoftwareFoundation.Python.3.10_qbz5n2kfra8p0\\LocalCache\\local-packages\\Python310\\site-packages\\keras\\src\\engine\\training_v1.py:2359: UserWarning: `Model.state_updates` will be removed in a future version. This property should not be used in TensorFlow 2.0, as `updates` are applied automatically.\n",
      "  updates=self.state_updates,\n"
     ]
    }
   ],
   "source": [
    "# Extracting a thieved classifier\n",
    "# by training the reference model\n",
    "stolen_classifier = copycat.extract(\n",
    "    x=train_images_stolen, \n",
    "    y=train_labels_stolen, \n",
    "    thieved_classifier=model_stolen\n",
    "    )"
   ]
  },
  {
   "cell_type": "code",
   "execution_count": 10,
   "metadata": {},
   "outputs": [
    {
     "name": "stderr",
     "output_type": "stream",
     "text": [
      "C:\\Users\\Darshan Mourya\\AppData\\Local\\Packages\\PythonSoftwareFoundation.Python.3.10_qbz5n2kfra8p0\\LocalCache\\local-packages\\Python310\\site-packages\\keras\\src\\engine\\training_v1.py:2335: UserWarning: `Model.state_updates` will be removed in a future version. This property should not be used in TensorFlow 2.0, as `updates` are applied automatically.\n",
      "  updates = self.state_updates\n"
     ]
    },
    {
     "name": "stdout",
     "output_type": "stream",
     "text": [
      "Original test loss: 0.05 vs stolen test loss: 0.12\n",
      "Original test accuracy: 0.99 vs stolen test accuracy: 0.98\n"
     ]
    }
   ],
   "source": [
    "# Testing the performance of the original classifier\n",
    "score_original = classifier_original._model.evaluate(\n",
    "    x=test_images_original, \n",
    "    y=test_labels_original\n",
    "    )\n",
    "\n",
    "# Testing the performance of the stolen classifier\n",
    "score_stolen = stolen_classifier._model.evaluate(\n",
    "    x=test_images_original, \n",
    "    y=test_labels_original\n",
    "    )\n",
    "\n",
    "# Comparing test losses\n",
    "print(f\"Original test loss: {score_original[0]:.2f} \" \n",
    "      f\"vs stolen test loss: {score_stolen[0]:.2f}\")\n",
    "\n",
    "# Comparing test accuracies\n",
    "print(f\"Original test accuracy: {score_original[1]:.2f} \" \n",
    "      f\"vs stolen test accuracy: {score_stolen[1]:.2f}\")"
   ]
  },
  {
   "cell_type": "markdown",
   "metadata": {},
   "source": [
    "just by using 50% of output for the train images we are able to reach 98% accuarcy with the model"
   ]
  },
  {
   "cell_type": "code",
   "execution_count": null,
   "metadata": {},
   "outputs": [],
   "source": []
  }
 ],
 "metadata": {
  "kernelspec": {
   "display_name": "Python 3",
   "language": "python",
   "name": "python3"
  },
  "language_info": {
   "codemirror_mode": {
    "name": "ipython",
    "version": 3
   },
   "file_extension": ".py",
   "mimetype": "text/x-python",
   "name": "python",
   "nbconvert_exporter": "python",
   "pygments_lexer": "ipython3",
   "version": "3.10.11"
  }
 },
 "nbformat": 4,
 "nbformat_minor": 2
}
